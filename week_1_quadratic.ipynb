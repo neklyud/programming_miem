{
  "nbformat": 4,
  "nbformat_minor": 0,
  "metadata": {
    "kernelspec": {
      "display_name": "Python 3",
      "language": "python",
      "name": "python3"
    },
    "language_info": {
      "codemirror_mode": {
        "name": "ipython",
        "version": 3
      },
      "file_extension": ".py",
      "mimetype": "text/x-python",
      "name": "python",
      "nbconvert_exporter": "python",
      "pygments_lexer": "ipython3",
      "version": "3.5.2"
    },
    "colab": {
      "name": "week_1_quadratic.ipynb",
      "version": "0.3.2",
      "provenance": [],
      "collapsed_sections": [],
      "include_colab_link": true
    }
  },
  "cells": [
    {
      "cell_type": "markdown",
      "metadata": {
        "id": "view-in-github",
        "colab_type": "text"
      },
      "source": [
        "<a href=\"https://colab.research.google.com/github/neklyud/programming_miem/blob/master/week_1_quadratic.ipynb\" target=\"_parent\"><img src=\"https://colab.research.google.com/assets/colab-badge.svg\" alt=\"Open In Colab\"/></a>"
      ]
    },
    {
      "cell_type": "markdown",
      "metadata": {
        "id": "dtowJbyE2lwh",
        "colab_type": "text"
      },
      "source": [
        "## Solve a quadratic equation, $x^2 + b x + c = 0$.\n",
        "\n",
        "\n",
        "Write a function which receives $b$ and $c$, the coefficients of a monic quadratic polynomial, $x^2 + b x + c$, and returns the pair of its roots. Your function should always return two values, even if quadratic has a double root.\n",
        "\n",
        "For example, given a quadratic $x^2 - 2x + 1$, your function should return a pair of $(1, 1)$. Of course, in floating point, your answers may differ from an exact unity.\n",
        "\n",
        "Your function also must correctly handle complex roots (to this end, you might need the `cmath` module from the standard library)."
      ]
    },
    {
      "cell_type": "code",
      "metadata": {
        "id": "GCB8-5sw2lwj",
        "colab_type": "code",
        "colab": {}
      },
      "source": [
        "import math\n",
        "def quad(a,b,c):\n",
        "  answ = []\n",
        "  D = b*b-4*a*c\n",
        "  if D == 0:\n",
        "    x1 = -b/(2*a)\n",
        "    x2 = -b/(2*a)\n",
        "    answ.append(x1)\n",
        "    answ.append(x2)\n",
        "  else:\n",
        "    if D > 0:\n",
        "      answ.append((-b+math.sqrt(b*b-4*a*c))/(2*a))\n",
        "      answ.append((-b-math.sqrt(b*b-4*a*c))/(2*a))\n",
        "    if D < 0:\n",
        "      x1 = complex(-b/(2*a), math.sqrt(-b*b+4*a*c)/(2*a))\n",
        "      x2 = complex(-b/(2*a), -math.sqrt(-b*b+4*a*c)/(2*a))\n",
        "      answ.append(x1)\n",
        "      answ.append(x2)\n",
        "  if answ[0]*answ[1] != c:\n",
        "    if answ[0] == 0:\n",
        "      answ[0] = c/answ[1]\n",
        "    if answ[1] == 0:\n",
        "      answ[1] = c/ answ[0]\n",
        "  return answ\n",
        " "
      ],
      "execution_count": 0,
      "outputs": []
    },
    {
      "cell_type": "markdown",
      "metadata": {
        "id": "MH_h9rX02lwp",
        "colab_type": "text"
      },
      "source": [
        "Test the your function on several examples against a calculation by hand. Once you're sure that your function works, try these five test cases below. \n",
        "\n",
        "Note that the last two test cases are special: they test whether your function handles extreme cases where a too simple approach is prone to a catastrophic cancellation. Make sure your function passes all five tests."
      ]
    },
    {
      "cell_type": "code",
      "metadata": {
        "id": "vc68FOTW2lwr",
        "colab_type": "code",
        "colab": {}
      },
      "source": [
        "from numpy import allclose"
      ],
      "execution_count": 0,
      "outputs": []
    },
    {
      "cell_type": "code",
      "metadata": {
        "id": "uqiCfFj52lwx",
        "colab_type": "code",
        "colab": {
          "base_uri": "https://localhost:8080/",
          "height": 34
        },
        "outputId": "b875c992-c65e-40f9-9eed-95c9475f9d13"
      },
      "source": [
        "variants = [{'a':1.0, 'b': 4.0, 'c': 3.0},\n",
        "            {'a':1.0, 'b': 2.0, 'c': 1.0},\n",
        "            {'a':1.0, 'b': 0.5, 'c': 4.0},\n",
        "            {'a':1.0, 'b': 1e10, 'c': 3.0},\n",
        "            {'a':1.0, 'b': -1e10, 'c': 4.0},\n",
        "            {'a':1.0, 'b': 0., 'c': 0},\n",
        "            {'a':1.0, 'b': 0., 'c': 1.0},\n",
        "            {'a':1.0, 'b': -5., 'c': 4.0},\n",
        "            {'a':1.0, 'b': 3., 'c': 4.0},\n",
        "            {'a':1.0, 'b': 2., 'c': 4.0},\n",
        "            {'a':1.0, 'b': 7., 'c': 4.0},\n",
        "            {'a':1.0, 'b': 36., 'c': 25},\n",
        "            {'a':1.0, 'b': 14., 'c': 5.0},\n",
        "            {'a':1.0, 'b': -1., 'c': 2.0},\n",
        "            {'a':1.0, 'b': -2., 'c': 1.0},\n",
        "            {'a':1.0, 'b': -7., 'c': 4.0},\n",
        "            {'a':1.0, 'b': -4, 'c': 3.0},\n",
        "            {'a':1.0, 'b': -100, 'c': 4.0},\n",
        "            {'a':1.0, 'b': 2, 'c': 4.0},\n",
        "            {'a':1.0, 'b': 4, 'c': 4.0},]"
      ],
      "execution_count": 17,
      "outputs": [
        {
          "output_type": "stream",
          "text": [
            "20\n"
          ],
          "name": "stdout"
        }
      ]
    },
    {
      "cell_type": "code",
      "metadata": {
        "id": "gZbTSKbs2lw2",
        "colab_type": "code",
        "outputId": "7514bfa8-220e-4f5b-9838-12265c84301e",
        "colab": {
          "base_uri": "https://localhost:8080/",
          "height": 374
        }
      },
      "source": [
        "list_of_test = []\n",
        "for var in variants:\n",
        "    answ = quad(var['a'], var['b'], var['c'])\n",
        "    x1 = answ[0]\n",
        "    x2 = answ[1]\n",
        "    list_of_test.append({\"{:.2E}\".format(x1), \"{:.2E}\".format(x2)})\n",
        "    print(x1 + x2 == - var['b'])\n",
        "print(list_of_test[:5])"
      ],
      "execution_count": 29,
      "outputs": [
        {
          "output_type": "stream",
          "text": [
            "True\n",
            "True\n",
            "True\n",
            "True\n",
            "True\n",
            "True\n",
            "True\n",
            "True\n",
            "True\n",
            "True\n",
            "True\n",
            "True\n",
            "True\n",
            "True\n",
            "True\n",
            "True\n",
            "True\n",
            "True\n",
            "True\n",
            "True\n",
            "[{'-3.00E+00', '-1.00E+00'}, {'-1.00E+00'}, {'-2.50E-01-1.98E+00j', '-2.50E-01+1.98E+00j'}, {'-1.00E+10', '-3.00E-10'}, {'4.00E-10', '1.00E+10'}]\n"
          ],
          "name": "stdout"
        }
      ]
    },
    {
      "cell_type": "code",
      "metadata": {
        "id": "ubGVzwDH2lw8",
        "colab_type": "code",
        "colab": {}
      },
      "source": [
        ""
      ],
      "execution_count": 0,
      "outputs": []
    },
    {
      "cell_type": "code",
      "metadata": {
        "id": "XpCs8-0ZbXJy",
        "colab_type": "code",
        "colab": {}
      },
      "source": [
        ""
      ],
      "execution_count": 0,
      "outputs": []
    }
  ]
}