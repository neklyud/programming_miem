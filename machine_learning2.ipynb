{
  "nbformat": 4,
  "nbformat_minor": 0,
  "metadata": {
    "colab": {
      "name": "machine_learning2",
      "version": "0.3.2",
      "provenance": [],
      "collapsed_sections": [],
      "include_colab_link": true
    },
    "kernelspec": {
      "name": "python3",
      "display_name": "Python 3"
    }
  },
  "cells": [
    {
      "cell_type": "markdown",
      "metadata": {
        "id": "view-in-github",
        "colab_type": "text"
      },
      "source": [
        "<a href=\"https://colab.research.google.com/github/neklyud/programming_miem/blob/master/machine_learning2.ipynb\" target=\"_parent\"><img src=\"https://colab.research.google.com/assets/colab-badge.svg\" alt=\"Open In Colab\"/></a>"
      ]
    },
    {
      "cell_type": "code",
      "metadata": {
        "id": "X5j1As8c8k5a",
        "colab_type": "code",
        "colab": {}
      },
      "source": [
        "import pandas as pd\n",
        "import numpy as np"
      ],
      "execution_count": 0,
      "outputs": []
    },
    {
      "cell_type": "code",
      "metadata": {
        "id": "EetEfIUG-OYs",
        "colab_type": "code",
        "outputId": "e50cb8c8-697b-454a-a0b6-2bb1d12e2973",
        "colab": {
          "base_uri": "https://localhost:8080/",
          "height": 87
        }
      },
      "source": [
        "train = np.zeros(shape = (3,4))\n",
        "train[1,3] = 1.5\n",
        "train[0,:] = 1.2\n",
        "train[:,2] = 1.3\n",
        "train = pd.DataFrame(train, columns=[\"x1\", \"x2\", \"y1\", \"y2\"])            \n",
        "print(train)"
      ],
      "execution_count": 0,
      "outputs": [
        {
          "output_type": "stream",
          "text": [
            "    x1   x2   y1   y2\n",
            "0  1.2  1.2  1.3  1.2\n",
            "1  0.0  0.0  1.3  1.5\n",
            "2  0.0  0.0  1.3  0.0\n"
          ],
          "name": "stdout"
        }
      ]
    },
    {
      "cell_type": "code",
      "metadata": {
        "id": "XwoGKPsK-9Dd",
        "colab_type": "code",
        "outputId": "d803def5-ebad-48fb-a863-b24d0c440dd7",
        "colab": {
          "base_uri": "https://localhost:8080/",
          "height": 87
        }
      },
      "source": [
        "selection = pd.read_csv(\"train.csv\")\n",
        "print(selection)"
      ],
      "execution_count": 41,
      "outputs": [
        {
          "output_type": "stream",
          "text": [
            "   Unnamed: 0   x1   x2   y1   y2\n",
            "0           0  1.2  1.2  1.3  1.2\n",
            "1           1  0.0  0.0  1.3  1.5\n",
            "2           2  0.0  0.0  1.3  0.0\n"
          ],
          "name": "stdout"
        }
      ]
    },
    {
      "cell_type": "code",
      "metadata": {
        "id": "iSAg1XruAth0",
        "colab_type": "code",
        "colab": {
          "base_uri": "https://localhost:8080/",
          "height": 70
        },
        "outputId": "f2f78f04-8eef-4bc9-b162-1c7be1c870c5"
      },
      "source": [
        "train = selection.to_numpy()\n",
        "print(train)"
      ],
      "execution_count": 36,
      "outputs": [
        {
          "output_type": "stream",
          "text": [
            "[[0.  1.2 1.2 1.3 1.2]\n",
            " [1.  0.  0.  1.3 1.5]\n",
            " [2.  0.  0.  1.3 0. ]]\n"
          ],
          "name": "stdout"
        }
      ]
    },
    {
      "cell_type": "code",
      "metadata": {
        "id": "FH1ubRnmCYFh",
        "colab_type": "code",
        "colab": {}
      },
      "source": [
        "maths_string = []\n",
        "for string in train:\n",
        "  maths_string.append(sum(string)/len(string))\n",
        "maths_cols = []\n",
        "for string in train.transpose():\n",
        "  maths_cols.append(sum(string)/len(string))\n"
      ],
      "execution_count": 0,
      "outputs": []
    },
    {
      "cell_type": "code",
      "metadata": {
        "id": "t3bETDvTB3xr",
        "colab_type": "code",
        "colab": {
          "base_uri": "https://localhost:8080/",
          "height": 34
        },
        "outputId": "8bd14979-bb96-4a8d-bd5c-e16a9f408b1e"
      },
      "source": [
        "maths_string"
      ],
      "execution_count": 31,
      "outputs": [
        {
          "output_type": "execute_result",
          "data": {
            "text/plain": [
              "[0.9800000000000001, 0.76, 0.6599999999999999]"
            ]
          },
          "metadata": {
            "tags": []
          },
          "execution_count": 31
        }
      ]
    },
    {
      "cell_type": "code",
      "metadata": {
        "id": "b-vtTPIDDveu",
        "colab_type": "code",
        "colab": {
          "base_uri": "https://localhost:8080/",
          "height": 34
        },
        "outputId": "1b416ee5-3c5e-45e3-9c20-ab65badb8e9d"
      },
      "source": [
        "maths_cols"
      ],
      "execution_count": 32,
      "outputs": [
        {
          "output_type": "execute_result",
          "data": {
            "text/plain": [
              "[1.0, 0.39999999999999997, 0.39999999999999997, 1.3, 0.9]"
            ]
          },
          "metadata": {
            "tags": []
          },
          "execution_count": 32
        }
      ]
    },
    {
      "cell_type": "code",
      "metadata": {
        "id": "owtvesqLD13-",
        "colab_type": "code",
        "colab": {}
      },
      "source": [
        "train = pd.read_csv(\"dataset.csv\", usecols = [\"x1\", \"y\"])\n"
      ],
      "execution_count": 0,
      "outputs": []
    },
    {
      "cell_type": "code",
      "metadata": {
        "id": "9rtwd_W1EB0j",
        "colab_type": "code",
        "colab": {
          "base_uri": "https://localhost:8080/",
          "height": 141
        },
        "outputId": "1bc52303-f52f-48c2-dc31-57fa7d8e823e"
      },
      "source": [
        "print(train.shape)\n",
        "print(train[:5])"
      ],
      "execution_count": 49,
      "outputs": [
        {
          "output_type": "stream",
          "text": [
            "(100, 2)\n",
            "         x1         y\n",
            "0  0.312312 -0.240920\n",
            "1  0.724806  1.355612\n",
            "2  0.289753  0.757985\n",
            "3  0.198513 -1.906744\n",
            "4  0.894661  1.775589\n"
          ],
          "name": "stdout"
        }
      ]
    },
    {
      "cell_type": "code",
      "metadata": {
        "id": "QMMOhzcyFtD9",
        "colab_type": "code",
        "colab": {}
      },
      "source": [
        "train = train.to_numpy()"
      ],
      "execution_count": 0,
      "outputs": []
    },
    {
      "cell_type": "code",
      "metadata": {
        "id": "zmX-x_o-GEQh",
        "colab_type": "code",
        "colab": {
          "base_uri": "https://localhost:8080/",
          "height": 34
        },
        "outputId": "602f6327-83c7-497e-d2ad-59d536c36a9f"
      },
      "source": [
        "np.min(train,axis = 0)"
      ],
      "execution_count": 62,
      "outputs": [
        {
          "output_type": "execute_result",
          "data": {
            "text/plain": [
              "array([ 0.01719159, -1.94408564])"
            ]
          },
          "metadata": {
            "tags": []
          },
          "execution_count": 62
        }
      ]
    },
    {
      "cell_type": "code",
      "metadata": {
        "id": "3QJQsJVrGsPp",
        "colab_type": "code",
        "colab": {
          "base_uri": "https://localhost:8080/",
          "height": 372
        },
        "outputId": "e044942c-be90-4d61-8ed7-06554e428bd5"
      },
      "source": [
        "train.min(axis=1)"
      ],
      "execution_count": 66,
      "outputs": [
        {
          "output_type": "execute_result",
          "data": {
            "text/plain": [
              "array([-0.24092034,  0.72480556,  0.28975319, -1.90674408,  0.89466053,\n",
              "        0.21655198, -1.27076358,  0.35624658, -0.2326398 ,  0.45276609,\n",
              "        0.42755933,  0.04895592,  0.32476817,  0.77149058,  0.46993658,\n",
              "        0.33169282,  0.65767364, -1.30157027,  0.58994929,  0.84185663,\n",
              "        0.35319165,  0.60887904,  0.50285014, -0.11447591,  0.77066676,\n",
              "        0.03870712,  0.83983561,  0.43789396,  0.91201002, -0.41238192,\n",
              "        0.08650041,  0.41281935,  0.02378438,  0.70748674,  0.54535669,\n",
              "        0.73185276,  0.11778847, -1.36232302,  0.01509431,  0.1395314 ,\n",
              "        0.94069309, -0.1784116 , -0.63920259,  0.66281344,  0.59841311,\n",
              "        0.17367376,  0.2083915 , -0.95864791, -0.9012177 , -0.08402153,\n",
              "        0.71178817, -0.83530018, -0.08294407,  0.19206473, -1.24810844,\n",
              "       -0.28259487, -0.78771552,  0.24008291, -0.86846543,  0.77702571,\n",
              "        0.00294979,  0.57785553, -0.6927882 , -1.18333396, -0.61706695,\n",
              "        0.90929667,  0.6204845 , -0.47984659,  0.68452061, -0.46656977,\n",
              "        0.51680326,  0.89793463,  0.05028831,  0.0400189 , -0.50436526,\n",
              "        0.80379649, -0.17135847,  0.94362275, -0.04550835,  0.20679208,\n",
              "        0.34178045,  0.0438884 , -0.71420839,  0.31134655,  0.10016472,\n",
              "        0.9668331 , -0.42415321,  0.41012787,  0.63314314,  0.73117885,\n",
              "       -1.94408564,  0.72609811,  0.63184434,  0.00597908,  0.07032642,\n",
              "        0.42178586,  0.61461443, -0.57745971,  0.77437815,  0.69888404])"
            ]
          },
          "metadata": {
            "tags": []
          },
          "execution_count": 66
        }
      ]
    },
    {
      "cell_type": "code",
      "metadata": {
        "id": "eLMpakgxHTCf",
        "colab_type": "code",
        "colab": {
          "base_uri": "https://localhost:8080/",
          "height": 372
        },
        "outputId": "e8c53c97-3e6f-4ff6-95a6-c6a6f508d106"
      },
      "source": [
        "train.max(axis=1)"
      ],
      "execution_count": 64,
      "outputs": [
        {
          "output_type": "execute_result",
          "data": {
            "text/plain": [
              "array([0.3123117 , 1.35561204, 0.75798509, 0.19851278, 1.77558878,\n",
              "       0.98642889, 0.19916562, 0.7849871 , 0.90185445, 1.50463329,\n",
              "       0.96513682, 2.02830273, 1.24573935, 1.29712391, 1.08743069,\n",
              "       0.39645937, 1.59865408, 0.2019511 , 1.92916213, 1.0424836 ,\n",
              "       0.93406325, 0.63108786, 1.11692132, 0.04579622, 0.84608824,\n",
              "       0.21044904, 1.29663844, 2.3772725 , 2.16323475, 0.01719159,\n",
              "       0.84265673, 1.2056051 , 0.55599746, 1.92746342, 0.81488607,\n",
              "       0.9401926 , 0.56648749, 0.37555258, 0.03477017, 0.20278205,\n",
              "       1.69885524, 0.18655451, 0.26317535, 1.09684291, 0.76129955,\n",
              "       0.45859539, 1.16686309, 0.03530702, 0.09583437, 0.66855211,\n",
              "       0.96172882, 0.74258472, 0.4568853 , 0.5540609 , 0.24159356,\n",
              "       0.88278702, 0.02176953, 0.73391358, 0.03244539, 2.21188682,\n",
              "       0.28864299, 0.60977847, 0.29377934, 0.7968742 , 0.23219042,\n",
              "       0.92833319, 0.97024203, 0.12071355, 1.00981469, 0.99185601,\n",
              "       1.34873725, 1.36274262, 0.07258132, 0.09029841, 0.51731414,\n",
              "       1.04721362, 0.07362352, 2.11157235, 0.37714114, 1.41405777,\n",
              "       0.73779248, 1.53961055, 0.33854301, 0.93388555, 0.64117616,\n",
              "       1.69328627, 0.36301334, 0.42931027, 0.7779128 , 2.02479324,\n",
              "       0.20224211, 1.94431563, 0.98695588, 0.09281333, 1.58420421,\n",
              "       0.59888689, 2.53136957, 0.60207811, 0.7914379 , 1.41784473])"
            ]
          },
          "metadata": {
            "tags": []
          },
          "execution_count": 64
        }
      ]
    },
    {
      "cell_type": "code",
      "metadata": {
        "id": "LYu9WiVtHtRb",
        "colab_type": "code",
        "colab": {
          "base_uri": "https://localhost:8080/",
          "height": 372
        },
        "outputId": "ed0758a7-6044-4ea8-fcf7-e8b6953343a5"
      },
      "source": [
        "train.mean(axis=1)"
      ],
      "execution_count": 65,
      "outputs": [
        {
          "output_type": "execute_result",
          "data": {
            "text/plain": [
              "array([ 0.03569568,  1.0402088 ,  0.52386914, -0.85411565,  1.33512465,\n",
              "        0.60149044, -0.53579898,  0.57061684,  0.33460732,  0.97869969,\n",
              "        0.69634807,  1.03862932,  0.78525376,  1.03430724,  0.77868363,\n",
              "        0.3640761 ,  1.12816386, -0.54980959,  1.25955571,  0.94217012,\n",
              "        0.64362745,  0.61998345,  0.80988573, -0.03433985,  0.8083775 ,\n",
              "        0.12457808,  1.06823702,  1.40758323,  1.53762239, -0.19759517,\n",
              "        0.46457857,  0.80921223,  0.28989092,  1.31747508,  0.68012138,\n",
              "        0.83602268,  0.34213798, -0.49338522,  0.02493224,  0.17115672,\n",
              "        1.31977416,  0.00407145, -0.18801362,  0.87982818,  0.67985633,\n",
              "        0.31613457,  0.68762729, -0.46167044, -0.40269167,  0.29226529,\n",
              "        0.83675849, -0.04635773,  0.18697061,  0.37306281, -0.50325744,\n",
              "        0.30009608, -0.382973  ,  0.48699825, -0.41801002,  1.49445626,\n",
              "        0.14579639,  0.593817  , -0.19950443, -0.19322988, -0.19243826,\n",
              "        0.91881493,  0.79536326, -0.17956652,  0.84716765,  0.26264312,\n",
              "        0.93277025,  1.13033863,  0.06143482,  0.06515865,  0.00647444,\n",
              "        0.92550505, -0.04886747,  1.52759755,  0.1658164 ,  0.81042493,\n",
              "        0.53978646,  0.79174947, -0.18783269,  0.62261605,  0.37067044,\n",
              "        1.33005968, -0.03056993,  0.41971907,  0.70552797,  1.37798604,\n",
              "       -0.87092177,  1.33520687,  0.80940011,  0.04939621,  0.82726532,\n",
              "        0.51033637,  1.572992  ,  0.0123092 ,  0.78290803,  1.05836439])"
            ]
          },
          "metadata": {
            "tags": []
          },
          "execution_count": 65
        }
      ]
    },
    {
      "cell_type": "code",
      "metadata": {
        "id": "RwfOgpBXH4oI",
        "colab_type": "code",
        "colab": {
          "base_uri": "https://localhost:8080/",
          "height": 70
        },
        "outputId": "a32c789b-2f6f-423d-cfad-2483a5196e38"
      },
      "source": [
        "print(\"Min=\", train.min(axis=0))\n",
        "print(\"Max=\", train.max(axis=0))\n",
        "print(\"Mean=\", train.mean(axis=0))"
      ],
      "execution_count": 67,
      "outputs": [
        {
          "output_type": "stream",
          "text": [
            "Min= [ 0.01719159 -1.94408564]\n",
            "Max= [0.99185601 2.53136957]\n",
            "Mean= [0.4909739 0.4809319]\n"
          ],
          "name": "stdout"
        }
      ]
    },
    {
      "cell_type": "code",
      "metadata": {
        "id": "r7m68HnGIwCH",
        "colab_type": "code",
        "colab": {}
      },
      "source": [
        "train = pd.read_csv(\"dataset.csv\", usecols = [\"x1\", \"y\"])\n"
      ],
      "execution_count": 0,
      "outputs": []
    },
    {
      "cell_type": "code",
      "metadata": {
        "id": "rQ0cQ4nuHy4o",
        "colab_type": "code",
        "colab": {
          "base_uri": "https://localhost:8080/",
          "height": 34
        },
        "outputId": "1d176756-a707-43f8-f4b9-2f5f82d78734"
      },
      "source": [
        "from sklearn.linear_model import LinearRegression\n",
        "lr1 = LinearRegression()\n",
        "lr1.fit(train[[\"x1\"]], train[[\"y\"]])"
      ],
      "execution_count": 75,
      "outputs": [
        {
          "output_type": "execute_result",
          "data": {
            "text/plain": [
              "LinearRegression(copy_X=True, fit_intercept=True, n_jobs=None, normalize=False)"
            ]
          },
          "metadata": {
            "tags": []
          },
          "execution_count": 75
        }
      ]
    },
    {
      "cell_type": "code",
      "metadata": {
        "id": "reLzd-WNIbdJ",
        "colab_type": "code",
        "colab": {
          "base_uri": "https://localhost:8080/",
          "height": 34
        },
        "outputId": "9e79b725-d081-401b-fc86-7ca767c27169"
      },
      "source": [
        "print(lr1.coef_, lr1.intercept_)"
      ],
      "execution_count": 76,
      "outputs": [
        {
          "output_type": "stream",
          "text": [
            "[[1.31237048]] [-0.16340775]\n"
          ],
          "name": "stdout"
        }
      ]
    },
    {
      "cell_type": "code",
      "metadata": {
        "id": "LNP5VfVUJB_2",
        "colab_type": "code",
        "colab": {
          "base_uri": "https://localhost:8080/",
          "height": 34
        },
        "outputId": "08588eab-92df-43b0-b6ac-5aeb422825f4"
      },
      "source": [
        "from sklearn.metrics import r2_score\n",
        "print(r2_score(train[\"y\"], lr1.predict(train[[\"x1\"]])))"
      ],
      "execution_count": 81,
      "outputs": [
        {
          "output_type": "stream",
          "text": [
            "0.1571066470728264\n"
          ],
          "name": "stdout"
        }
      ]
    },
    {
      "cell_type": "code",
      "metadata": {
        "id": "Xv-NcQ6MKeB5",
        "colab_type": "code",
        "colab": {}
      },
      "source": [
        "train2 = pd.read_csv(\"dataset2.csv\")"
      ],
      "execution_count": 0,
      "outputs": []
    },
    {
      "cell_type": "code",
      "metadata": {
        "id": "ZgsXEkZZJ5GK",
        "colab_type": "code",
        "colab": {
          "base_uri": "https://localhost:8080/",
          "height": 34
        },
        "outputId": "dfa1c1e6-dce1-4ab2-a3f4-25748ac5e488"
      },
      "source": [
        "print(r2_score(train2[[\"y\"]], lr1.predict(train2[[\"x1\"]])))"
      ],
      "execution_count": 88,
      "outputs": [
        {
          "output_type": "stream",
          "text": [
            "0.9038835667933462\n"
          ],
          "name": "stdout"
        }
      ]
    },
    {
      "cell_type": "code",
      "metadata": {
        "id": "3S6BudCLO6zA",
        "colab_type": "code",
        "colab": {
          "base_uri": "https://localhost:8080/",
          "height": 34
        },
        "outputId": "f1888152-dcf8-4d11-d519-8cda068f3b7a"
      },
      "source": [
        ""
      ],
      "execution_count": 110,
      "outputs": [
        {
          "output_type": "execute_result",
          "data": {
            "text/plain": [
              "7000"
            ]
          },
          "metadata": {
            "tags": []
          },
          "execution_count": 110
        }
      ]
    },
    {
      "cell_type": "code",
      "metadata": {
        "id": "eSXbn5OdKlq6",
        "colab_type": "code",
        "colab": {}
      },
      "source": [
        "y = train[[\"y\"]]\n",
        "x = train.drop(\"y\", axis=1)"
      ],
      "execution_count": 0,
      "outputs": []
    },
    {
      "cell_type": "code",
      "metadata": {
        "id": "1ano4MrfOHIo",
        "colab_type": "code",
        "colab": {}
      },
      "source": [
        "from sklearn.model_selection import train_test_split\n",
        "x_train, y_test, y_train, y_test = train_test_split(x,y,test_size = 0.3)"
      ],
      "execution_count": 0,
      "outputs": []
    },
    {
      "cell_type": "code",
      "metadata": {
        "id": "vXF0cO4JOdvN",
        "colab_type": "code",
        "colab": {}
      },
      "source": [
        "train = pd.read_csv(\"dataset4.csv\", usecols = [\"x1\", \"y\"])"
      ],
      "execution_count": 0,
      "outputs": []
    },
    {
      "cell_type": "code",
      "metadata": {
        "id": "-yMvEt3ZRSnc",
        "colab_type": "code",
        "colab": {}
      },
      "source": [
        "y = train[[\"y\"]]\n",
        "x = train.drop(\"y\", axis=1)"
      ],
      "execution_count": 0,
      "outputs": []
    },
    {
      "cell_type": "code",
      "metadata": {
        "id": "gfpbV3tJPA9G",
        "colab_type": "code",
        "colab": {}
      },
      "source": [
        "x_train, x_test, y_train, y_test = train_test_split(x,y,test_size = 0.3)\n"
      ],
      "execution_count": 0,
      "outputs": []
    },
    {
      "cell_type": "code",
      "metadata": {
        "id": "RRI8JRSgPJOa",
        "colab_type": "code",
        "colab": {
          "base_uri": "https://localhost:8080/",
          "height": 70
        },
        "outputId": "4691755a-7091-4bdb-ab05-cf3a8772cfc4"
      },
      "source": [
        "lr1 = LinearRegression()\n",
        "lr1.fit(x_train, y_train)\n",
        "print(\"lr1_coef=\",lr1.coef_, \"lr1_intercept=\", lr1.intercept_)\n",
        "print(\"r2_score_train=\", r2_score(y_train, lr1.predict(x_train)))\n",
        "print(\"r2_score_test=\", r2_score(y_test, lr1.predict(x_test)))"
      ],
      "execution_count": 151,
      "outputs": [
        {
          "output_type": "stream",
          "text": [
            "lr1_coef= [[1.00524932]] lr1_intercept= [-0.00252488]\n",
            "r2_score_train= 0.8949080468364232\n",
            "r2_score_test= 0.8927999542831477\n"
          ],
          "name": "stdout"
        }
      ]
    },
    {
      "cell_type": "code",
      "metadata": {
        "id": "qM8Y0IsRPdVM",
        "colab_type": "code",
        "colab": {}
      },
      "source": [
        "from sklearn.preprocessing import PolynomialFeatures\n",
        "\n",
        "poly = PolynominalFeatures(2)\n",
        "poly.fit_transform(x_train)"
      ],
      "execution_count": 0,
      "outputs": []
    },
    {
      "cell_type": "code",
      "metadata": {
        "id": "pxBMWmIKPott",
        "colab_type": "code",
        "colab": {}
      },
      "source": [
        ""
      ],
      "execution_count": 0,
      "outputs": []
    }
  ]
}