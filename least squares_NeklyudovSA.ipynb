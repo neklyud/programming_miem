{
 "cells": [
  {
   "cell_type": "markdown",
   "metadata": {},
   "source": [
    "# Linear (ordinary) least squares"
   ]
  },
  {
   "cell_type": "markdown",
   "metadata": {},
   "source": [
    "Suppose we have a set of points $\\left\\{ (x_i, y_i), i = 1, \\ldots, n \\right\\}$ and a functional form $f(x, \\vec \\beta)$, where $\\vec \\beta$ is a vector of parameters."
   ]
  },
  {
   "cell_type": "markdown",
   "metadata": {},
   "source": [
    "Then, *least squares approximation* is a problem of finding $\\vec \\beta$ by minimising function\n",
    "$$ \\xi (\\vec \\beta) = \\sum\\limits_{i = 1}^n \\left| y_i - f(x_i, \\vec \\beta) \\right|^2 $$"
   ]
  },
  {
   "cell_type": "markdown",
   "metadata": {},
   "source": [
    "Least squares approximation becomes *linear (or ordinary)* when we assume that $f(x, \\vec \\beta)$ is a linear function of $\\vec \\beta$: \n",
    "$$f(x, \\vec \\beta) = \\sum \\limits_{j = 1}^m \\beta_j \\varphi_j (x),$$\n",
    "where $\\varphi_j (x)$ are called basis functions which do not need to be linear ($x^k$, $e^{i \\alpha_k x}$ etc.)."
   ]
  },
  {
   "cell_type": "markdown",
   "metadata": {},
   "source": [
    "We minimize with respect to $\\vec \\beta$\n",
    "$$ \\xi (\\vec \\beta) = \\sum\\limits_{i = 1}^n \\left| y_i - \\left( \\beta_1 \\varphi_1(x) + \\ldots + \\beta_m \\varphi_m(x) \\right) \\right|^2 .$$\n",
    "It can be represented as \n",
    "$$\\xi (\\vec \\beta) = || \\vec y - A \\vec \\beta ||^2,$$\n",
    "if we suppose that a vector norm $||\\vec a|| = \\sqrt{\\sum\\limits_{i = 1}^n |a_i|^2}$ and *the design matrix*\n",
    "$$ A = \\begin{pmatrix} \n",
    "            \\varphi_1(x_1) & \\varphi_2(x_1) & \\ldots & \\varphi_m(x_1) \\\\\n",
    "            \\varphi_1(x_2) & \\varphi_2(x_2) & \\ldots & \\varphi_m(x_2) \\\\\n",
    "            \\vdots & \\vdots & \\ddots & \\vdots \\\\\n",
    "            \\varphi_1(x_n) & \\varphi_2(x_n) & \\ldots & \\varphi_m(x_n) \\\\\n",
    "        \\end{pmatrix}.$$"
   ]
  },
  {
   "cell_type": "markdown",
   "metadata": {},
   "source": [
    "To minimize $\\xi (\\vec \\beta)$ we set \n",
    "$$\\cfrac{\\partial}{\\partial \\beta_k} \\xi (\\vec \\beta) = 0, \\; k = 1, \\ldots, m, $$\n",
    "and obtain *the normal equation*\n",
    "$$A^T A \\vec \\beta = A^T \\vec y.$$"
   ]
  },
  {
   "cell_type": "markdown",
   "metadata": {},
   "source": [
    "If $A$ is poorly conditioned, then solving this matrix equation becomes a big problem. In this case QR decomposition of $A$ is often used. The design matrix can be represented as \n",
    "$$A = Q \\cdot R,$$\n",
    "where $Q$ is orthoginal ($Q^T Q = 1$), and $R$ is upper triangular."
   ]
  },
  {
   "cell_type": "markdown",
   "metadata": {},
   "source": [
    "Since $m < n$ last $n-m$ rows of $R$ are zero:\n",
    "$$A = Q \\cdot \\begin{pmatrix} \n",
    "                    R_1 \\\\\n",
    "                    0 \\\\\n",
    "                \\end{pmatrix}.$$\n",
    "Recall tht matrix $Q$ is a rotation operator, and introduced norm of a vector is invariant to rotation. Then, we rotate the residual $\\vec y - A \\vec \\beta$:\n",
    "$$\\xi (\\vec \\beta) = || \\vec y - A \\vec \\beta ||^2 = || Q^T \\left( \\vec y - A \\vec \\beta \\right) ||^2 = || Q^T \\vec y - \\begin{pmatrix} \n",
    "    R_1 \\\\\n",
    "    0 \\\\\n",
    "\\end{pmatrix} \\vec \\beta ||^2. $$"
   ]
  },
  {
   "cell_type": "markdown",
   "metadata": {},
   "source": [
    "Let us write \n",
    "$$Q^T \\vec y = \\begin{pmatrix} \n",
    "                    \\vec f \\\\\n",
    "                    \\vec r \\\\\n",
    "                \\end{pmatrix},$$\n",
    "where $\\mbox{dim} \\vec f = m$.\n",
    "\n",
    "This way,\n",
    "$$\\xi ( \\vec \\beta ) = ||\\vec f - R_1 \\vec \\beta||^2 + ||\\vec r||^2 \\rightarrow \\min \\Leftrightarrow R_1 \\vec \\beta = \\vec f.$$\n",
    "\n",
    "The last equation is solved by back substitution."
   ]
  },
  {
   "cell_type": "markdown",
   "metadata": {},
   "source": [
    "## Task"
   ]
  },
  {
   "cell_type": "markdown",
   "metadata": {},
   "source": [
    "Let the basis function be $x^k, \\; k = 0, \\ldots, m$. Write function that finds $\\vec \\beta$ for $m = 1, 2, 3$."
   ]
  },
  {
   "cell_type": "code",
   "execution_count": 156,
   "metadata": {},
   "outputs": [],
   "source": [
    "import numpy as np"
   ]
  },
  {
   "cell_type": "code",
   "execution_count": 338,
   "metadata": {},
   "outputs": [],
   "source": [
    "def linear_least_squares(m, xdata, ydata):\n",
    "    A = np.zeros((len(xdata), m+1))\n",
    "    for i in range(len(xdata)):\n",
    "        A[i] = np.array([np.power(xdata[i], j) for j in range(0,m+1)])\n",
    "    q, r = np.linalg.qr(A)\n",
    "    beta = np.linalg.inv(r)@q.T@ydata\n",
    "    return beta"
   ]
  },
  {
   "cell_type": "markdown",
   "metadata": {},
   "source": [
    "Now implement your function to approximate real data."
   ]
  },
  {
   "cell_type": "code",
   "execution_count": 339,
   "metadata": {},
   "outputs": [
    {
     "data": {
      "image/png": "[encoded data removed]",
      "text/plain": [
       "<Figure size 432x288 with 1 Axes>"
      ]
     },
     "metadata": {},
     "output_type": "display_data"
    }
   ],
   "source": [
    "from sklearn import datasets\n",
    "import matplotlib.pyplot as plt\n",
    "\n",
    "diabetes = datasets.load_iris()\n",
    "X = diabetes.data\n",
    "y = diabetes.target\n",
    "\n",
    "ydata = X[:100,-1]\n",
    "xdata = X[:100,0]\n",
    "\n",
    "plt.plot(xdata, ydata, 'o', label='Original data', markersize=10)\n",
    "plt.grid(True)\n",
    "plt.legend()\n",
    "plt.show()"
   ]
  },
  {
   "cell_type": "code",
   "execution_count": 340,
   "metadata": {},
   "outputs": [
    {
     "data": {
      "text/plain": [
       "array([-5.9188815 ,  1.74339767, -0.09341773])"
      ]
     },
     "execution_count": 340,
     "metadata": {},
     "output_type": "execute_result"
    }
   ],
   "source": [
    "beta = np.asarray(linear_least_squares(2, xdata, ydata))\n",
    "beta"
   ]
  },
  {
   "cell_type": "markdown",
   "metadata": {},
   "source": [
    "Plot the resulting functions."
   ]
  },
  {
   "cell_type": "code",
   "execution_count": null,
   "metadata": {},
   "outputs": [],
   "source": []
  },
  {
   "cell_type": "code",
   "execution_count": 341,
   "metadata": {},
   "outputs": [
    {
     "data": {
      "image/png": "[encoded data removed]",
      "text/plain": [
       "<Figure size 432x288 with 1 Axes>"
      ]
     },
     "metadata": {},
     "output_type": "display_data"
    }
   ],
   "source": [
    "plt.plot(beta[1]*xdata, ydata, 'o', label='Original data', markersize=10)\n",
    "plt.grid(True)\n",
    "plt.legend()\n",
    "plt.show()"
   ]
  },
  {
   "cell_type": "markdown",
   "metadata": {},
   "source": [
    "Output the comma-separated list of coefficients before $x$. You will need this for Google Form."
   ]
  },
  {
   "cell_type": "code",
   "execution_count": 342,
   "metadata": {},
   "outputs": [
    {
     "name": "stdout",
     "output_type": "stream",
     "text": [
      "0.6968201364375617,1.7433976718964401,-30.004765706028103\n"
     ]
    }
   ],
   "source": [
    "coefs = []\n",
    "\n",
    "# assuming that beta[1] is always a coefficient before x\n",
    "for m in range(1, 4):\n",
    "    coefs.append(str(linear_least_squares(m, xdata, ydata)[1]))\n",
    "    \n",
    "print(\",\".join(coefs))"
   ]
  },
  {
   "cell_type": "markdown",
   "metadata": {},
   "source": [
    "Output the comma-separated list of average quadratic deviations. You will need this for Google Form.\n",
    "\n",
    "*Reminder*: Average quadratic deviation = $\\cfrac{1}{n} \\sum\\limits_{i = 1}^{n} \\left| y_i - f(x_i, \\vec \\beta) \\right|^2 $, where $n$ is the number of observations."
   ]
  },
  {
   "cell_type": "code",
   "execution_count": 299,
   "metadata": {},
   "outputs": [],
   "source": [
    "def qd(x):\n",
    "    return np.sum(np.abs(np.power(x, 2)))"
   ]
  },
  {
   "cell_type": "code",
   "execution_count": 337,
   "metadata": {},
   "outputs": [
    {
     "name": "stdout",
     "output_type": "stream",
     "text": [
      "0.11953278794286401,0.11769389348016475,0.1051873346328916\n"
     ]
    }
   ],
   "source": [
    "aqds = []\n",
    "for m in range(1, 4):\n",
    "    beta = linear_least_squares(m, xdata, ydata)\n",
    "    cur_aqd = qd(ydata - beta@[np.power(xdata, i) for i in range(m+1)])/len(xdata)\n",
    "    aqds.append(str(cur_aqd))\n",
    "    \n",
    "print(\",\".join(aqds))"
   ]
  }
 ],
 "metadata": {
  "kernelspec": {
   "display_name": "Python 3",
   "language": "python",
   "name": "python3"
  },
  "language_info": {
   "codemirror_mode": {
    "name": "ipython",
    "version": 3
   },
   "file_extension": ".py",
   "mimetype": "text/x-python",
   "name": "python",
   "nbconvert_exporter": "python",
   "pygments_lexer": "ipython3",
   "version": "3.6.5"
  }
 },
 "nbformat": 4,
 "nbformat_minor": 2
}
