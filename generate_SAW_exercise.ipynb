{
  "nbformat": 4,
  "nbformat_minor": 0,
  "metadata": {
    "kernelspec": {
      "display_name": "Python 3",
      "language": "python",
      "name": "python3"
    },
    "language_info": {
      "codemirror_mode": {
        "name": "ipython",
        "version": 3
      },
      "file_extension": ".py",
      "mimetype": "text/x-python",
      "name": "python",
      "nbconvert_exporter": "python",
      "pygments_lexer": "ipython3",
      "version": "3.5.2"
    },
    "colab": {
      "name": "generate_SAW_exercise.ipynb",
      "version": "0.3.2",
      "provenance": [],
      "include_colab_link": true
    }
  },
  "cells": [
    {
      "cell_type": "markdown",
      "metadata": {
        "id": "view-in-github",
        "colab_type": "text"
      },
      "source": [
        "<a href=\"https://colab.research.google.com/github/neklyud/programming_miem/blob/master/generate_SAW_exercise.ipynb\" target=\"_parent\"><img src=\"https://colab.research.google.com/assets/colab-badge.svg\" alt=\"Open In Colab\"/></a>"
      ]
    },
    {
      "cell_type": "markdown",
      "metadata": {
        "id": "bxruI9XUtiLU",
        "colab_type": "text"
      },
      "source": [
        "# I. Generate all lattice walks, 2D square lattice"
      ]
    },
    {
      "cell_type": "code",
      "metadata": {
        "id": "SAixoTeptiLW",
        "colab_type": "code",
        "colab": {}
      },
      "source": [
        "# This I showed in class:\n",
        "\n",
        "steps = [(1, 0), (-1, 0), (0, 1), (0, -1)]\n",
        "\n",
        "def generate_walks(path, L):\n",
        "    \"\"\"Generate all random walks on the 2D square lattice.\"\"\"\n",
        "    if L == 0:\n",
        "        print(path)\n",
        "    else:\n",
        "        for dx, dy in steps:\n",
        "            x, y = path[-1]\n",
        "            pp = path.copy()\n",
        "            pp.append((x + dx, y + dy))\n",
        "            generate_walks(pp, L - 1)"
      ],
      "execution_count": 0,
      "outputs": []
    },
    {
      "cell_type": "code",
      "metadata": {
        "id": "xfqALNRAtiLf",
        "colab_type": "code",
        "outputId": "43196cf9-68e3-4df6-b880-b9f6db62da65",
        "colab": {
          "base_uri": "https://localhost:8080/",
          "height": 301
        }
      },
      "source": [
        "generate_walks([(0, 0)], 2)"
      ],
      "execution_count": 6,
      "outputs": [
        {
          "output_type": "stream",
          "text": [
            "[(0, 0), (1, 0), (2, 0)]\n",
            "[(0, 0), (1, 0), (0, 0)]\n",
            "[(0, 0), (1, 0), (1, 1)]\n",
            "[(0, 0), (1, 0), (1, -1)]\n",
            "[(0, 0), (-1, 0), (0, 0)]\n",
            "[(0, 0), (-1, 0), (-2, 0)]\n",
            "[(0, 0), (-1, 0), (-1, 1)]\n",
            "[(0, 0), (-1, 0), (-1, -1)]\n",
            "[(0, 0), (0, 1), (1, 1)]\n",
            "[(0, 0), (0, 1), (-1, 1)]\n",
            "[(0, 0), (0, 1), (0, 2)]\n",
            "[(0, 0), (0, 1), (0, 0)]\n",
            "[(0, 0), (0, -1), (1, -1)]\n",
            "[(0, 0), (0, -1), (-1, -1)]\n",
            "[(0, 0), (0, -1), (0, 0)]\n",
            "[(0, 0), (0, -1), (0, -2)]\n"
          ],
          "name": "stdout"
        }
      ]
    },
    {
      "cell_type": "markdown",
      "metadata": {
        "id": "owL4o4d3tiLk",
        "colab_type": "text"
      },
      "source": [
        "## Store the walks\n",
        "\n",
        "Printing walks is nice, but not very useful. Better construct a list of all walks, for postprocessing. To this end, add a `cache` parameter, which stores all generated walks."
      ]
    },
    {
      "cell_type": "code",
      "metadata": {
        "id": "H-Jgvl-0tiLl",
        "colab_type": "code",
        "colab": {}
      },
      "source": [
        "steps = [(1, 0), (-1, 0), (0, 1), (0, -1)]\n",
        "\n",
        "def generate_walks_stored(path, L, cache):\n",
        "    if L == 0:\n",
        "        cache.append(path)\n",
        "    else:\n",
        "        for dx, dy in steps:\n",
        "            x, y = path[-1]\n",
        "            xy_new = (x + dx, y + dy)\n",
        "            pp = path.copy()\n",
        "            pp.append(xy_new)\n",
        "            generate_walks_stored(pp, L - 1, cache)"
      ],
      "execution_count": 0,
      "outputs": []
    },
    {
      "cell_type": "code",
      "metadata": {
        "id": "oJkFlatbtiLo",
        "colab_type": "code",
        "outputId": "12140e68-1ab2-4da2-bebe-f52a551b4bbc",
        "colab": {
          "base_uri": "https://localhost:8080/",
          "height": 34
        }
      },
      "source": [
        "cache = []\n",
        "generate_walks_stored([(0, 0)], 2, cache)\n",
        "len(cache)"
      ],
      "execution_count": 3,
      "outputs": [
        {
          "output_type": "execute_result",
          "data": {
            "text/plain": [
              "16"
            ]
          },
          "metadata": {
            "tags": []
          },
          "execution_count": 3
        }
      ]
    },
    {
      "cell_type": "code",
      "metadata": {
        "id": "b1BKDrD3tiLr",
        "colab_type": "code",
        "outputId": "2878940b-5978-4ba8-b055-417879af164a",
        "colab": {
          "base_uri": "https://localhost:8080/",
          "height": 301
        }
      },
      "source": [
        "cache"
      ],
      "execution_count": 4,
      "outputs": [
        {
          "output_type": "execute_result",
          "data": {
            "text/plain": [
              "[[(0, 0), (1, 0), (2, 0)],\n",
              " [(0, 0), (1, 0), (0, 0)],\n",
              " [(0, 0), (1, 0), (1, 1)],\n",
              " [(0, 0), (1, 0), (1, -1)],\n",
              " [(0, 0), (-1, 0), (0, 0)],\n",
              " [(0, 0), (-1, 0), (-2, 0)],\n",
              " [(0, 0), (-1, 0), (-1, 1)],\n",
              " [(0, 0), (-1, 0), (-1, -1)],\n",
              " [(0, 0), (0, 1), (1, 1)],\n",
              " [(0, 0), (0, 1), (-1, 1)],\n",
              " [(0, 0), (0, 1), (0, 2)],\n",
              " [(0, 0), (0, 1), (0, 0)],\n",
              " [(0, 0), (0, -1), (1, -1)],\n",
              " [(0, 0), (0, -1), (-1, -1)],\n",
              " [(0, 0), (0, -1), (0, 0)],\n",
              " [(0, 0), (0, -1), (0, -2)]]"
            ]
          },
          "metadata": {
            "tags": []
          },
          "execution_count": 4
        }
      ]
    },
    {
      "cell_type": "markdown",
      "metadata": {
        "id": "VxXJ7uqhtiLv",
        "colab_type": "text"
      },
      "source": [
        "## Task 0\n",
        "\n",
        "Compute the average end-to-end distance of random walks of a given length. What is the scaling of the end-to-end distance with the length of the walk? What is the scaling of the mean *square* end-to-end distance with the length?"
      ]
    },
    {
      "cell_type": "markdown",
      "metadata": {
        "id": "mebdBEe9tiLw",
        "colab_type": "text"
      },
      "source": [
        "<font color='red'> (See in the papers, prove) </font>"
      ]
    },
    {
      "cell_type": "code",
      "metadata": {
        "id": "DeKaXUpIrxOt",
        "colab_type": "code",
        "colab": {}
      },
      "source": [
        ""
      ],
      "execution_count": 0,
      "outputs": []
    },
    {
      "cell_type": "code",
      "metadata": {
        "id": "IcfrceCYtiLx",
        "colab_type": "code",
        "colab": {}
      },
      "source": [
        "import math\n",
        "#Среднеквадротичное расстояние\n",
        "def get_square_dist(cache):\n",
        "  dist = 0\n",
        "  for path in cache:\n",
        "    start = path[0]\n",
        "    finish = path[-1]\n",
        "    dist += math.sqrt((finish[0]-start[0])**2 + (finish[1]-start[1])**2)\n",
        "  return dist/len(cache)\n"
      ],
      "execution_count": 0,
      "outputs": []
    },
    {
      "cell_type": "code",
      "metadata": {
        "id": "xIliH_n6r1Hg",
        "colab_type": "code",
        "colab": {}
      },
      "source": [
        "#Среднее расстояние\n",
        "\n",
        "def get_dist(cache):\n",
        "  dist = 0\n",
        "  for path in cache:\n",
        "    start = path[0]\n",
        "    finish = path[-1]\n",
        "    dist += abs(finish[0]-start[0]) + abs(finish[1]-start[1])\n",
        "  return dist/len(cache)"
      ],
      "execution_count": 0,
      "outputs": []
    },
    {
      "cell_type": "code",
      "metadata": {
        "id": "jwLNE5tkilqX",
        "colab_type": "code",
        "colab": {}
      },
      "source": [
        "\n",
        "L_list = [ i for i in range(1,10)]\n",
        "X = []\n",
        "Y = []\n",
        "X_square = []\n",
        "Y_square = []\n",
        "for L in L_list:\n",
        "  cache = []\n",
        "  generate_walks_stored([(0, 0)], L, cache)\n",
        "  X.append(L)\n",
        "  Y.append(get_dist(cache))\n",
        "  X_square.append(L)\n",
        "  Y_square.append(get_square_dist(cache))"
      ],
      "execution_count": 0,
      "outputs": []
    },
    {
      "cell_type": "code",
      "metadata": {
        "id": "PAVCyhc7k2c9",
        "colab_type": "code",
        "colab": {
          "base_uri": "https://localhost:8080/",
          "height": 260
        },
        "outputId": "ee698a9e-5c56-48ae-cedd-1b5a15067623"
      },
      "source": [
        "import matplotlib.pyplot as plt\n",
        "\n",
        "fig, ax = plt.subplots(figsize=(5, 3))\n",
        "ax.scatter(x=X, y=Y, marker='o', c='r', edgecolor='b')\n",
        "ax.set_title('Scatter: $x$ versus $y$')\n",
        "ax.set_xlabel('$x$')\n",
        "ax.set_ylabel('$y$')"
      ],
      "execution_count": 36,
      "outputs": [
        {
          "output_type": "execute_result",
          "data": {
            "text/plain": [
              "Text(0, 0.5, '$y$')"
            ]
          },
          "metadata": {
            "tags": []
          },
          "execution_count": 36
        },
        {
          "output_type": "display_data",
          "data": {
            "image/png": "[encoded data removed]",
            "text/plain": [
              "<Figure size 360x216 with 1 Axes>"
            ]
          },
          "metadata": {
            "tags": []
          }
        }
      ]
    },
    {
      "cell_type": "code",
      "metadata": {
        "id": "Cihp-iKJsv9W",
        "colab_type": "code",
        "colab": {
          "base_uri": "https://localhost:8080/",
          "height": 260
        },
        "outputId": "ed89e928-1238-4560-a286-659e0ba90e00"
      },
      "source": [
        "fig, ax = plt.subplots(figsize=(5, 3))\n",
        "ax.scatter(x=X_square, y=Y_square, marker='o', c='r', edgecolor='b')\n",
        "ax.set_title('Scatter: $x$ versus $y$')\n",
        "ax.set_xlabel('$x$')\n",
        "ax.set_ylabel('$y$')"
      ],
      "execution_count": 37,
      "outputs": [
        {
          "output_type": "execute_result",
          "data": {
            "text/plain": [
              "Text(0, 0.5, '$y$')"
            ]
          },
          "metadata": {
            "tags": []
          },
          "execution_count": 37
        },
        {
          "output_type": "display_data",
          "data": {
            "image/png": "[encoded data removed]",
            "text/plain": [
              "<Figure size 360x216 with 1 Axes>"
            ]
          },
          "metadata": {
            "tags": []
          }
        }
      ]
    },
    {
      "cell_type": "markdown",
      "metadata": {
        "id": "YjRmCkfFtiL1",
        "colab_type": "text"
      },
      "source": [
        "# I. Generate all SAWs on a 2D square lattice\n",
        "\n",
        "A self-avoiding walk is a random walk where a lattice site can only be visited once."
      ]
    },
    {
      "cell_type": "code",
      "metadata": {
        "id": "p_NE1x82tiL2",
        "colab_type": "code",
        "colab": {}
      },
      "source": [
        "steps = [(1, 0), (-1, 0), (0, 1), (0, -1)]\n",
        "\n",
        "def generate_SAWs(path, L, cache):\n",
        "    if L == 0:\n",
        "        cache.append(path)\n",
        "    else:\n",
        "        for dx, dy in steps:\n",
        "            x, y = path[-1]\n",
        "            xy_new = (x + dx, y + dy)\n",
        "            pp = path.copy()\n",
        "            if xy_new not in path:\n",
        "              pp.append(xy_new)\n",
        "              generate_SAWs(pp, L - 1, cache)"
      ],
      "execution_count": 0,
      "outputs": []
    },
    {
      "cell_type": "markdown",
      "metadata": {
        "id": "8tMoj-kwtiL6",
        "colab_type": "text"
      },
      "source": [
        "## Task 1\n",
        "\n",
        "How many walks of a given length are there? What is the mean end-to-end distance of walks of a given length? What is mean *square* of the end-to-end distance?"
      ]
    },
    {
      "cell_type": "markdown",
      "metadata": {
        "id": "t9YugGbHtiL8",
        "colab_type": "text"
      },
      "source": [
        "<font color='red'> (See in the papers, prove) </font>"
      ]
    },
    {
      "cell_type": "code",
      "metadata": {
        "id": "eMphCNAwtiL-",
        "colab_type": "code",
        "colab": {
          "base_uri": "https://localhost:8080/",
          "height": 34
        },
        "outputId": "06fbfe29-1146-4284-f24e-282fac948ed1"
      },
      "source": [
        "cache = []\n",
        "generate_SAWs([(0, 0)], 2, cache)\n",
        "len(cache)#Количество SAW проходов"
      ],
      "execution_count": 52,
      "outputs": [
        {
          "output_type": "execute_result",
          "data": {
            "text/plain": [
              "12"
            ]
          },
          "metadata": {
            "tags": []
          },
          "execution_count": 52
        }
      ]
    },
    {
      "cell_type": "code",
      "metadata": {
        "id": "7pSOavSFx1aX",
        "colab_type": "code",
        "colab": {
          "base_uri": "https://localhost:8080/",
          "height": 34
        },
        "outputId": "594628c0-fb4b-4eff-b7db-ffa0a1736e7c"
      },
      "source": [
        "get_dist(cache)#среднее расстояние "
      ],
      "execution_count": 54,
      "outputs": [
        {
          "output_type": "execute_result",
          "data": {
            "text/plain": [
              "2.0"
            ]
          },
          "metadata": {
            "tags": []
          },
          "execution_count": 54
        }
      ]
    },
    {
      "cell_type": "code",
      "metadata": {
        "id": "eNJfIOAGyPCa",
        "colab_type": "code",
        "colab": {
          "base_uri": "https://localhost:8080/",
          "height": 34
        },
        "outputId": "fb4e83af-d4a2-44ab-8b23-2a0110820ecc"
      },
      "source": [
        "get_square_dist(cache)"
      ],
      "execution_count": 55,
      "outputs": [
        {
          "output_type": "execute_result",
          "data": {
            "text/plain": [
              "1.6094757082487303"
            ]
          },
          "metadata": {
            "tags": []
          },
          "execution_count": 55
        }
      ]
    },
    {
      "cell_type": "markdown",
      "metadata": {
        "id": "2PZSvWr3tiMD",
        "colab_type": "text"
      },
      "source": [
        "## Extra tasks (for fun, no credit, a possible basis of a course project)\n",
        "\n",
        "1. Generate a self-avoiding walk on triangular lattice <font color='red'> (a link or a hint) </font>.\n",
        "2. Rewrite the recursive algorithm to use a queue <font color='red'> (a link or a hint) </font>."
      ]
    },
    {
      "cell_type": "code",
      "metadata": {
        "id": "KnuwI6XhtiME",
        "colab_type": "code",
        "colab": {}
      },
      "source": [
        ""
      ],
      "execution_count": 0,
      "outputs": []
    }
  ]
}