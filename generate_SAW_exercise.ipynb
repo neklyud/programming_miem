{
  "nbformat": 4,
  "nbformat_minor": 0,
  "metadata": {
    "kernelspec": {
      "display_name": "Python 3",
      "language": "python",
      "name": "python3"
    },
    "language_info": {
      "codemirror_mode": {
        "name": "ipython",
        "version": 3
      },
      "file_extension": ".py",
      "mimetype": "text/x-python",
      "name": "python",
      "nbconvert_exporter": "python",
      "pygments_lexer": "ipython3",
      "version": "3.5.2"
    },
    "colab": {
      "name": "generate_SAW_exercise.ipynb",
      "version": "0.3.2",
      "provenance": [],
      "machine_shape": "hm",
      "include_colab_link": true
    }
  },
  "cells": [
    {
      "cell_type": "markdown",
      "metadata": {
        "id": "view-in-github",
        "colab_type": "text"
      },
      "source": [
        "<a href=\"https://colab.research.google.com/github/neklyud/programming_miem/blob/master/generate_SAW_exercise.ipynb\" target=\"_parent\"><img src=\"https://colab.research.google.com/assets/colab-badge.svg\" alt=\"Open In Colab\"/></a>"
      ]
    },
    {
      "cell_type": "markdown",
      "metadata": {
        "id": "bxruI9XUtiLU",
        "colab_type": "text"
      },
      "source": [
        "# I. Generate all lattice walks, 2D square lattice"
      ]
    },
    {
      "cell_type": "code",
      "metadata": {
        "id": "SAixoTeptiLW",
        "colab_type": "code",
        "colab": {}
      },
      "source": [
        "# This I showed in class:\n",
        "\n",
        "steps = [(1, 0), (-1, 0), (0, 1), (0, -1)]\n",
        "\n",
        "def generate_walks(path, L):\n",
        "    \"\"\"Generate all random walks on the 2D square lattice.\"\"\"\n",
        "    if L == 0:\n",
        "        print(path)\n",
        "    else:\n",
        "        for dx, dy in steps:\n",
        "            x, y = path[-1]\n",
        "            pp = path.copy()\n",
        "            pp.append((x + dx, y + dy))\n",
        "            generate_walks(pp, L - 1)"
      ],
      "execution_count": 0,
      "outputs": []
    },
    {
      "cell_type": "code",
      "metadata": {
        "id": "xfqALNRAtiLf",
        "colab_type": "code",
        "outputId": "5fc34d19-a92b-44bb-dcb4-d2b04f26d295",
        "colab": {
          "base_uri": "https://localhost:8080/",
          "height": 289
        }
      },
      "source": [
        "generate_walks([(0, 0)], 2)"
      ],
      "execution_count": 2,
      "outputs": [
        {
          "output_type": "stream",
          "text": [
            "[(0, 0), (1, 0), (2, 0)]\n",
            "[(0, 0), (1, 0), (0, 0)]\n",
            "[(0, 0), (1, 0), (1, 1)]\n",
            "[(0, 0), (1, 0), (1, -1)]\n",
            "[(0, 0), (-1, 0), (0, 0)]\n",
            "[(0, 0), (-1, 0), (-2, 0)]\n",
            "[(0, 0), (-1, 0), (-1, 1)]\n",
            "[(0, 0), (-1, 0), (-1, -1)]\n",
            "[(0, 0), (0, 1), (1, 1)]\n",
            "[(0, 0), (0, 1), (-1, 1)]\n",
            "[(0, 0), (0, 1), (0, 2)]\n",
            "[(0, 0), (0, 1), (0, 0)]\n",
            "[(0, 0), (0, -1), (1, -1)]\n",
            "[(0, 0), (0, -1), (-1, -1)]\n",
            "[(0, 0), (0, -1), (0, 0)]\n",
            "[(0, 0), (0, -1), (0, -2)]\n"
          ],
          "name": "stdout"
        }
      ]
    },
    {
      "cell_type": "markdown",
      "metadata": {
        "id": "owL4o4d3tiLk",
        "colab_type": "text"
      },
      "source": [
        "## Store the walks\n",
        "\n",
        "Printing walks is nice, but not very useful. Better construct a list of all walks, for postprocessing. To this end, add a `cache` parameter, which stores all generated walks."
      ]
    },
    {
      "cell_type": "code",
      "metadata": {
        "id": "H-Jgvl-0tiLl",
        "colab_type": "code",
        "colab": {}
      },
      "source": [
        "steps = [(1, 0), (-1, 0), (0, 1), (0, -1)]\n",
        "\n",
        "def generate_walks_stored(path, L, cache):\n",
        "    if L == 0:\n",
        "        cache.append(path)\n",
        "    else:\n",
        "        for dx, dy in steps:\n",
        "            x, y = path[-1]\n",
        "            xy_new = (x + dx, y + dy)\n",
        "            pp = path.copy()\n",
        "            pp.append(xy_new)\n",
        "            generate_walks_stored(pp, L - 1, cache)"
      ],
      "execution_count": 0,
      "outputs": []
    },
    {
      "cell_type": "code",
      "metadata": {
        "id": "oJkFlatbtiLo",
        "colab_type": "code",
        "outputId": "1261de69-bd0e-48a6-aab6-4be5ad7b27dd",
        "colab": {
          "base_uri": "https://localhost:8080/",
          "height": 34
        }
      },
      "source": [
        "cache = []\n",
        "generate_walks_stored([(0, 0)], 2, cache)\n",
        "len(cache)"
      ],
      "execution_count": 6,
      "outputs": [
        {
          "output_type": "execute_result",
          "data": {
            "text/plain": [
              "16"
            ]
          },
          "metadata": {
            "tags": []
          },
          "execution_count": 6
        }
      ]
    },
    {
      "cell_type": "code",
      "metadata": {
        "id": "b1BKDrD3tiLr",
        "colab_type": "code",
        "outputId": "8164028d-0a30-4bea-8cd6-188f42708620",
        "colab": {
          "base_uri": "https://localhost:8080/",
          "height": 289
        }
      },
      "source": [
        "cache"
      ],
      "execution_count": 7,
      "outputs": [
        {
          "output_type": "execute_result",
          "data": {
            "text/plain": [
              "[[(0, 0), (1, 0), (2, 0)],\n",
              " [(0, 0), (1, 0), (0, 0)],\n",
              " [(0, 0), (1, 0), (1, 1)],\n",
              " [(0, 0), (1, 0), (1, -1)],\n",
              " [(0, 0), (-1, 0), (0, 0)],\n",
              " [(0, 0), (-1, 0), (-2, 0)],\n",
              " [(0, 0), (-1, 0), (-1, 1)],\n",
              " [(0, 0), (-1, 0), (-1, -1)],\n",
              " [(0, 0), (0, 1), (1, 1)],\n",
              " [(0, 0), (0, 1), (-1, 1)],\n",
              " [(0, 0), (0, 1), (0, 2)],\n",
              " [(0, 0), (0, 1), (0, 0)],\n",
              " [(0, 0), (0, -1), (1, -1)],\n",
              " [(0, 0), (0, -1), (-1, -1)],\n",
              " [(0, 0), (0, -1), (0, 0)],\n",
              " [(0, 0), (0, -1), (0, -2)]]"
            ]
          },
          "metadata": {
            "tags": []
          },
          "execution_count": 7
        }
      ]
    },
    {
      "cell_type": "markdown",
      "metadata": {
        "id": "VxXJ7uqhtiLv",
        "colab_type": "text"
      },
      "source": [
        "## Task 0\n",
        "\n",
        "Compute the average end-to-end distance of random walks of a given length. What is the scaling of the end-to-end distance with the length of the walk? What is the scaling of the mean *square* end-to-end distance with the length?"
      ]
    },
    {
      "cell_type": "markdown",
      "metadata": {
        "id": "mebdBEe9tiLw",
        "colab_type": "text"
      },
      "source": [
        "<font color='red'> (See in the papers, prove) </font>"
      ]
    },
    {
      "cell_type": "code",
      "metadata": {
        "id": "DeKaXUpIrxOt",
        "colab_type": "code",
        "colab": {}
      },
      "source": [
        ""
      ],
      "execution_count": 0,
      "outputs": []
    },
    {
      "cell_type": "code",
      "metadata": {
        "id": "IcfrceCYtiLx",
        "colab_type": "code",
        "colab": {}
      },
      "source": [
        "import math\n",
        "#Среднее расстояние\n",
        "def get_average_dist(cache):\n",
        "  dist = 0\n",
        "  for path in cache:\n",
        "    start = path[0]\n",
        "    finish = path[-1]\n",
        "    dist += math.sqrt((finish[0]-start[0])**2 + (finish[1]-start[1])**2)\n",
        "  return dist/len(cache)\n"
      ],
      "execution_count": 0,
      "outputs": []
    },
    {
      "cell_type": "code",
      "metadata": {
        "id": "xIliH_n6r1Hg",
        "colab_type": "code",
        "colab": {}
      },
      "source": [
        "#Среднеквадратическое расстояние\n",
        "\n",
        "def get_square_dist(cache):\n",
        "  dist = 0\n",
        "  for path in cache:\n",
        "    start = path[0]\n",
        "    finish = path[-1]\n",
        "    dist += (finish[0]-start[0])**2 + (finish[1]-start[1])**2\n",
        "  return math.sqrt(dist/len(cache))\n"
      ],
      "execution_count": 0,
      "outputs": []
    },
    {
      "cell_type": "code",
      "metadata": {
        "id": "MD7B6zHB56TG",
        "colab_type": "code",
        "colab": {}
      },
      "source": [
        "#Среднеквадратическое и среднее расстояния для длины прогулки L = 12\n",
        "generate_walks_stored([(0, 0)], 12, cache)\n",
        "square_dist = get_square_dist(cache)\n",
        "average_dist = get_average_dist(cache)"
      ],
      "execution_count": 0,
      "outputs": []
    },
    {
      "cell_type": "code",
      "metadata": {
        "id": "nPqirfyBGjCS",
        "colab_type": "code",
        "colab": {
          "base_uri": "https://localhost:8080/",
          "height": 68
        },
        "outputId": "9481deaf-79e0-4ea7-8393-c7715b53bd9e"
      },
      "source": [
        "print(\"Среднеквадратическое: \",square_dist)\n",
        "print(\"Среднее:\", average_dist)\n",
        "#рассчет масштаба для L = 12\n",
        "scalling = square_dist/16\n",
        "print(\"Масштабирование для L = 12: \", scalling)"
      ],
      "execution_count": 45,
      "outputs": [
        {
          "output_type": "stream",
          "text": [
            "Среднеквадратическое:  3.464100582755608\n",
            "Среднее: 3.0693906912986817\n",
            "Масштабирование для L = 12:  0.2165062864222255\n"
          ],
          "name": "stdout"
        }
      ]
    },
    {
      "cell_type": "code",
      "metadata": {
        "id": "jwLNE5tkilqX",
        "colab_type": "code",
        "outputId": "f7d3e8bd-c2af-48ab-8de5-10bba4adb8cc",
        "colab": {
          "base_uri": "https://localhost:8080/",
          "height": 71
        }
      },
      "source": [
        "L_list = [ i for i in range(1,13)]\n",
        "X = []\n",
        "Y = []\n",
        "X_square = []\n",
        "Y_square = []\n",
        "for L in L_list:\n",
        "  cache = []\n",
        "  generate_walks_stored([(0, 0)], L, cache)\n",
        "  X.append(L)\n",
        "  Y.append(get_average_dist(cache))\n",
        "  X_square.append(L)\n",
        "  Y_square.append(get_square_dist(cache))\n",
        "print(Y)\n",
        "print(Y_square)"
      ],
      "execution_count": 37,
      "outputs": [
        {
          "output_type": "stream",
          "text": [
            "[1.0, 1.2071067811865477, 1.5885254915624203, 1.7532798363559174, 2.0193315606071582, 2.1612211221359865, 2.374821460732043, 2.5017070926792733, 2.6842200373912326, 2.800234705444815, 2.961745829989649, 3.069392021651456]\n",
            "[1.0, 1.4142135623730951, 1.7320508075688772, 2.0, 2.23606797749979, 2.449489742783178, 2.6457513110645907, 2.8284271247461903, 3.0, 3.1622776601683795, 3.3166247903554, 3.4641016151377544]\n"
          ],
          "name": "stdout"
        }
      ]
    },
    {
      "cell_type": "code",
      "metadata": {
        "id": "umvWht6E53RQ",
        "colab_type": "code",
        "colab": {}
      },
      "source": [
        ""
      ],
      "execution_count": 0,
      "outputs": []
    },
    {
      "cell_type": "code",
      "metadata": {
        "id": "PAVCyhc7k2c9",
        "colab_type": "code",
        "outputId": "1f86e8be-8dc4-4048-fd93-65f4daa4391b",
        "colab": {
          "base_uri": "https://localhost:8080/",
          "height": 259
        }
      },
      "source": [
        "import matplotlib.pyplot as plt\n",
        "\n",
        "fig, ax = plt.subplots(figsize=(5, 3))\n",
        "ax.scatter(x=X, y=Y, marker='o', c='r', edgecolor='b')\n",
        "ax.set_title('Scatter: $x$ versus $y$')\n",
        "ax.set_xlabel('$x$')\n",
        "ax.set_ylabel('$y$')"
      ],
      "execution_count": 38,
      "outputs": [
        {
          "output_type": "execute_result",
          "data": {
            "text/plain": [
              "Text(0, 0.5, '$y$')"
            ]
          },
          "metadata": {
            "tags": []
          },
          "execution_count": 38
        },
        {
          "output_type": "display_data",
          "data": {
            "image/png": "[encoded data removed]",
            "text/plain": [
              "<Figure size 360x216 with 1 Axes>"
            ]
          },
          "metadata": {
            "tags": []
          }
        }
      ]
    },
    {
      "cell_type": "code",
      "metadata": {
        "id": "Cihp-iKJsv9W",
        "colab_type": "code",
        "outputId": "d05abb87-b96d-4b2d-e075-077440e81c6f",
        "colab": {
          "base_uri": "https://localhost:8080/",
          "height": 259
        }
      },
      "source": [
        "fig, ax = plt.subplots(figsize=(5, 3))\n",
        "ax.scatter(x=X_square, y=Y_square, marker='o', c='r', edgecolor='b')\n",
        "ax.set_title('Scatter: $x$ versus $y$')\n",
        "ax.set_xlabel('$x$')\n",
        "ax.set_ylabel('$y$')"
      ],
      "execution_count": 39,
      "outputs": [
        {
          "output_type": "execute_result",
          "data": {
            "text/plain": [
              "Text(0, 0.5, '$y$')"
            ]
          },
          "metadata": {
            "tags": []
          },
          "execution_count": 39
        },
        {
          "output_type": "display_data",
          "data": {
            "image/png": "[encoded data removed]",
            "text/plain": [
              "<Figure size 360x216 with 1 Axes>"
            ]
          },
          "metadata": {
            "tags": []
          }
        }
      ]
    },
    {
      "cell_type": "markdown",
      "metadata": {
        "id": "YjRmCkfFtiL1",
        "colab_type": "text"
      },
      "source": [
        "# I. Generate all SAWs on a 2D square lattice\n",
        "\n",
        "A self-avoiding walk is a random walk where a lattice site can only be visited once."
      ]
    },
    {
      "cell_type": "code",
      "metadata": {
        "id": "p_NE1x82tiL2",
        "colab_type": "code",
        "colab": {}
      },
      "source": [
        "steps = [(1, 0), (-1, 0), (0, 1), (0, -1)]\n",
        "\n",
        "def generate_SAWs(path, L, cache):\n",
        "    if L == 0:\n",
        "        cache.append(path)\n",
        "    else:\n",
        "        for dx, dy in steps:\n",
        "            x, y = path[-1]\n",
        "            xy_new = (x + dx, y + dy)\n",
        "            pp = path.copy()\n",
        "            if xy_new not in path:\n",
        "              pp.append(xy_new)\n",
        "              generate_SAWs(pp, L - 1, cache)"
      ],
      "execution_count": 0,
      "outputs": []
    },
    {
      "cell_type": "markdown",
      "metadata": {
        "id": "8tMoj-kwtiL6",
        "colab_type": "text"
      },
      "source": [
        "## Task 1\n",
        "\n",
        "How many walks of a given length are there? What is the mean end-to-end distance of walks of a given length? What is mean *square* of the end-to-end distance?"
      ]
    },
    {
      "cell_type": "markdown",
      "metadata": {
        "id": "t9YugGbHtiL8",
        "colab_type": "text"
      },
      "source": [
        "<font color='red'> (See in the papers, prove) </font>"
      ]
    },
    {
      "cell_type": "code",
      "metadata": {
        "id": "eMphCNAwtiL-",
        "colab_type": "code",
        "outputId": "1719cf37-9731-4c9c-d83e-65b270f9706d",
        "colab": {
          "base_uri": "https://localhost:8080/",
          "height": 34
        }
      },
      "source": [
        "cache = []\n",
        "generate_SAWs([(0, 0)], 2, cache)\n",
        "len(cache)#Количество SAW проходов"
      ],
      "execution_count": 41,
      "outputs": [
        {
          "output_type": "execute_result",
          "data": {
            "text/plain": [
              "12"
            ]
          },
          "metadata": {
            "tags": []
          },
          "execution_count": 41
        }
      ]
    },
    {
      "cell_type": "code",
      "metadata": {
        "id": "7pSOavSFx1aX",
        "colab_type": "code",
        "outputId": "4786e117-edb6-421f-9af3-36b1f92528bb",
        "colab": {
          "base_uri": "https://localhost:8080/",
          "height": 34
        }
      },
      "source": [
        "get_average_dist(cache)#среднее расстояние "
      ],
      "execution_count": 43,
      "outputs": [
        {
          "output_type": "execute_result",
          "data": {
            "text/plain": [
              "1.6094757082487303"
            ]
          },
          "metadata": {
            "tags": []
          },
          "execution_count": 43
        }
      ]
    },
    {
      "cell_type": "code",
      "metadata": {
        "id": "eNJfIOAGyPCa",
        "colab_type": "code",
        "outputId": "669693b5-a450-4ec2-af2f-a4b7d780f221",
        "colab": {
          "base_uri": "https://localhost:8080/",
          "height": 34
        }
      },
      "source": [
        "square_dist = get_square_dist(cache)\n",
        "print(square_dist)"
      ],
      "execution_count": 47,
      "outputs": [
        {
          "output_type": "stream",
          "text": [
            "1.632993161855452\n"
          ],
          "name": "stdout"
        }
      ]
    },
    {
      "cell_type": "code",
      "metadata": {
        "id": "YCQaeAUtKY7d",
        "colab_type": "code",
        "colab": {
          "base_uri": "https://localhost:8080/",
          "height": 34
        },
        "outputId": "210edf3f-473e-4587-d222-0d69365e944c"
      },
      "source": [
        "#масштабирование для самостоятельных прогулок\n",
        "scalling = square_dist/12\n",
        "print(scalling)"
      ],
      "execution_count": 49,
      "outputs": [
        {
          "output_type": "stream",
          "text": [
            "0.13608276348795434\n"
          ],
          "name": "stdout"
        }
      ]
    },
    {
      "cell_type": "markdown",
      "metadata": {
        "id": "2PZSvWr3tiMD",
        "colab_type": "text"
      },
      "source": [
        "## Extra tasks (for fun, no credit, a possible basis of a course project)\n",
        "\n",
        "1. Generate a self-avoiding walk on triangular lattice <font color='red'> (a link or a hint) </font>.\n",
        "2. Rewrite the recursive algorithm to use a queue <font color='red'> (a link or a hint) </font>."
      ]
    },
    {
      "cell_type": "code",
      "metadata": {
        "id": "KnuwI6XhtiME",
        "colab_type": "code",
        "colab": {
          "base_uri": "https://localhost:8080/",
          "height": 122
        },
        "outputId": "e2566f0e-c863-4c4c-a070-7432986c664c"
      },
      "source": [
        "from math import sqrt\n",
        "\n",
        "average = []\n",
        "cache = []\n",
        "L = 2\n",
        "generate_walks_stored([(0, 0)], L, cache)\n",
        "print(cache)\n",
        "for i in cache:\n",
        "    temp = list(i)\n",
        "    x = abs(temp[-1][0] - temp[0][0])\n",
        "    y = abs(temp[-1][1] - temp[0][1])\n",
        "    average.append(sqrt(x**2 + y**2))\n",
        "res = sum(i for i in average) / len(average)\n",
        "square_res = sqrt(res)\n",
        "e2e_distance = res/L\n",
        "e2e_distance_square = square_res/L\n",
        "print(\"среднее сквозное:\", res)\n",
        "print(\"масштабирование сквозного расстояния: \", e2e_distance)\n",
        "print(\"масштабирование среднеквадратичного сквозного расстояния\", e2e_distance_square)"
      ],
      "execution_count": 24,
      "outputs": [
        {
          "output_type": "stream",
          "text": [
            "[[(0, 0), (1, 0), (2, 0)], [(0, 0), (1, 0), (0, 0)], [(0, 0), (1, 0), (1, 1)], [(0, 0), (1, 0), (1, -1)], [(0, 0), (-1, 0), (0, 0)], [(0, 0), (-1, 0), (-2, 0)], [(0, 0), (-1, 0), (-1, 1)], [(0, 0), (-1, 0), (-1, -1)], [(0, 0), (0, 1), (1, 1)], [(0, 0), (0, 1), (-1, 1)], [(0, 0), (0, 1), (0, 2)], [(0, 0), (0, 1), (0, 0)], [(0, 0), (0, -1), (1, -1)], [(0, 0), (0, -1), (-1, -1)], [(0, 0), (0, -1), (0, 0)], [(0, 0), (0, -1), (0, -2)]]\n",
            "19.313708498984763\n",
            "среднее сквозное: 1.2071067811865477\n",
            "масштабирование сквозного расстояния:  0.6035533905932738\n",
            "масштабирование среднеквадратичного сквозного расстояния 0.549342056733905\n"
          ],
          "name": "stdout"
        }
      ]
    },
    {
      "cell_type": "code",
      "metadata": {
        "id": "yT4JhayRDFw2",
        "colab_type": "code",
        "colab": {}
      },
      "source": [
        ""
      ],
      "execution_count": 0,
      "outputs": []
    }
  ]
}