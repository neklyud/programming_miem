{
  "nbformat": 4,
  "nbformat_minor": 0,
  "metadata": {
    "kernelspec": {
      "display_name": "Python 3",
      "language": "python",
      "name": "python3"
    },
    "language_info": {
      "codemirror_mode": {
        "name": "ipython",
        "version": 3
      },
      "file_extension": ".py",
      "mimetype": "text/x-python",
      "name": "python",
      "nbconvert_exporter": "python",
      "pygments_lexer": "ipython3",
      "version": "3.5.2"
    },
    "colab": {
      "name": "Roman_numerals.ipynb",
      "version": "0.3.2",
      "provenance": [],
      "toc_visible": true,
      "include_colab_link": true
    }
  },
  "cells": [
    {
      "cell_type": "markdown",
      "metadata": {
        "id": "view-in-github",
        "colab_type": "text"
      },
      "source": [
        "<a href=\"https://colab.research.google.com/github/neklyud/programming_miem/blob/master/Roman_numerals.ipynb\" target=\"_parent\"><img src=\"https://colab.research.google.com/assets/colab-badge.svg\" alt=\"Open In Colab\"/></a>"
      ]
    },
    {
      "cell_type": "markdown",
      "metadata": {
        "id": "F2fEIVMertJh",
        "colab_type": "text"
      },
      "source": [
        "# Roman numerals"
      ]
    },
    {
      "cell_type": "markdown",
      "metadata": {
        "id": "4jrl0l8prtJj",
        "colab_type": "text"
      },
      "source": [
        "## I. Roman numerals to decimals\n",
        "\n",
        "Write a function which receives a Roman numeral written out as a string, and returns an integer representing the decimal form of the input number. "
      ]
    },
    {
      "cell_type": "code",
      "metadata": {
        "id": "Z_06wunErtJk",
        "colab_type": "code",
        "colab": {}
      },
      "source": [
        "mapping = {\"I\" : 1, \n",
        "           \"V\" : 5,\n",
        "           \"X\" : 10,\n",
        "           \"L\" : 50,\n",
        "           \"C\" : 100,\n",
        "           \"D\" : 500,\n",
        "           \"M\" : 1000}"
      ],
      "execution_count": 0,
      "outputs": []
    },
    {
      "cell_type": "code",
      "metadata": {
        "id": "SYsX4ikamrDb",
        "colab_type": "code",
        "colab": {
          "base_uri": "https://localhost:8080/",
          "height": 34
        },
        "outputId": "a418d6dd-37a0-498c-f2b7-5d5c3831429f"
      },
      "source": [
        "print(list(mapping.keys())[list(mapping.values()).index(1)])"
      ],
      "execution_count": 83,
      "outputs": [
        {
          "output_type": "stream",
          "text": [
            "I\n"
          ],
          "name": "stdout"
        }
      ]
    },
    {
      "cell_type": "code",
      "metadata": {
        "id": "Zt3VNdDBrtJo",
        "colab_type": "code",
        "colab": {}
      },
      "source": [
        "def roman_to_decimal(rom):\n",
        "    \"\"\"Convert a Roman numeral to decimal.\n",
        "    \n",
        "    Parameters\n",
        "    ----------\n",
        "    rom : str\n",
        "        A Roman numeral representing a positive integer.\n",
        "        \n",
        "    Returns\n",
        "    -------\n",
        "    dec : int\n",
        "        The result of conversion of `rom` into a decimal system.\n",
        "    \"\"\"\n",
        "    if len(rom) == 1:\n",
        "      return mapping[rom]\n",
        "    dec = 0\n",
        "    index = 1\n",
        "    #Используется для обозначения действия на предыдущем шаге. Допустимые значения - None (не было действий), Subtraction (Вычитание), Adding(сложение)\n",
        "    if mapping[rom[0]] >= mapping[rom[1]]:\n",
        "      flag = 'Adding'\n",
        "      dec += mapping[rom[0]]\n",
        "    else:\n",
        "      flag = 'Subtraction'\n",
        "      dec += mapping[rom[1]] - mapping[rom[0]]\n",
        "    for it,symbol in enumerate(rom[1:]):\n",
        "      if flag == 'Adding':\n",
        "        if index == len(rom) - 1:\n",
        "          dec += mapping[symbol]\n",
        "          break\n",
        "        if mapping[symbol] >= mapping[rom[index+1]]:\n",
        "          dec += mapping[symbol]\n",
        "          flag = 'Adding'\n",
        "        else:\n",
        "          dec += mapping[rom[index+1]] - mapping[symbol]\n",
        "          flag = 'Subtraction'\n",
        "      else:\n",
        "        if index == len(rom) - 1:\n",
        "          break\n",
        "        if mapping[symbol] >= mapping[rom[index+1]]:\n",
        "          flag = 'Adding'\n",
        "          index += 1\n",
        "          continue\n",
        "        else:\n",
        "          dec += mapping[rom[index+1]] - mapping[symbol]\n",
        "          flag = 'Subtraction'\n",
        "      index += 1\n",
        "    #print(dec)\n",
        "    return dec"
      ],
      "execution_count": 0,
      "outputs": []
    },
    {
      "cell_type": "markdown",
      "metadata": {
        "id": "VHJ3oVeBrtJr",
        "colab_type": "text"
      },
      "source": [
        "Here are some tests for you to test your code. Your code must pass all of them. You also need to come up with several more tests (your choice)."
      ]
    },
    {
      "cell_type": "code",
      "metadata": {
        "id": "dvX3Ewx-rtJs",
        "colab_type": "code",
        "outputId": "70196da1-d2f1-4a24-e0b5-01e7450f4cf9",
        "colab": {
          "base_uri": "https://localhost:8080/",
          "height": 176
        }
      },
      "source": [
        "test_pairs = [(\"IX\", 9), (\"XI\", 11), (\"MCCII\", 1202), (\"MMXVIII\", 2018), (\"XLIX\", 49),\n",
        "              (\"XVIIII\", 19), (\"XIX\", 19), (\"MCDXLIV\", 1444), (\"MCMXCIX\", 1999)]\n",
        "\n",
        "for rom, dec in test_pairs:\n",
        "    converted = roman_to_decimal(rom)\n",
        "    print(converted == dec)"
      ],
      "execution_count": 86,
      "outputs": [
        {
          "output_type": "stream",
          "text": [
            "True\n",
            "True\n",
            "True\n",
            "True\n",
            "True\n",
            "True\n",
            "True\n",
            "True\n",
            "True\n"
          ],
          "name": "stdout"
        }
      ]
    },
    {
      "cell_type": "markdown",
      "metadata": {
        "id": "WDDQelSNrtJv",
        "colab_type": "text"
      },
      "source": [
        "Now you can run tests in file `tests_Roman_numerals.txt`. You need to insert a number of false results and listed false results in respective field in Google Form for this lesson."
      ]
    },
    {
      "cell_type": "code",
      "metadata": {
        "id": "Rd8ks6QnrtJx",
        "colab_type": "code",
        "outputId": "ecd1ce38-5d52-4e1e-ed95-b6eafe42650c",
        "colab": {
          "base_uri": "https://localhost:8080/",
          "height": 238
        }
      },
      "source": [
        "p = \"tests_Roman_numerals (1).txt\"\n",
        "with open(p, \"rb\") as fp:\n",
        "    lines=fp.readlines()\n",
        "\n",
        "test_data = [line.strip().decode(\"ascii\").split(',') for line in lines]\n",
        "test_data = [(line[0], int(line[1])) for line in test_data]\n",
        "\n",
        "for rom, dec in test_data:\n",
        "    converted = roman_to_decimal(rom)\n",
        "    print(converted == dec, dec)"
      ],
      "execution_count": 87,
      "outputs": [
        {
          "output_type": "error",
          "ename": "FileNotFoundError",
          "evalue": "ignored",
          "traceback": [
            "\u001b[0;31m---------------------------------------------------------------------------\u001b[0m",
            "\u001b[0;31mFileNotFoundError\u001b[0m                         Traceback (most recent call last)",
            "\u001b[0;32m<ipython-input-87-4731612f65b6>\u001b[0m in \u001b[0;36m<module>\u001b[0;34m()\u001b[0m\n\u001b[1;32m      1\u001b[0m \u001b[0mp\u001b[0m \u001b[0;34m=\u001b[0m \u001b[0;34m\"tests_Roman_numerals (1).txt\"\u001b[0m\u001b[0;34m\u001b[0m\u001b[0;34m\u001b[0m\u001b[0m\n\u001b[0;32m----> 2\u001b[0;31m \u001b[0;32mwith\u001b[0m \u001b[0mopen\u001b[0m\u001b[0;34m(\u001b[0m\u001b[0mp\u001b[0m\u001b[0;34m,\u001b[0m \u001b[0;34m\"rb\"\u001b[0m\u001b[0;34m)\u001b[0m \u001b[0;32mas\u001b[0m \u001b[0mfp\u001b[0m\u001b[0;34m:\u001b[0m\u001b[0;34m\u001b[0m\u001b[0;34m\u001b[0m\u001b[0m\n\u001b[0m\u001b[1;32m      3\u001b[0m     \u001b[0mlines\u001b[0m\u001b[0;34m=\u001b[0m\u001b[0mfp\u001b[0m\u001b[0;34m.\u001b[0m\u001b[0mreadlines\u001b[0m\u001b[0;34m(\u001b[0m\u001b[0;34m)\u001b[0m\u001b[0;34m\u001b[0m\u001b[0;34m\u001b[0m\u001b[0m\n\u001b[1;32m      4\u001b[0m \u001b[0;34m\u001b[0m\u001b[0m\n\u001b[1;32m      5\u001b[0m \u001b[0mtest_data\u001b[0m \u001b[0;34m=\u001b[0m \u001b[0;34m[\u001b[0m\u001b[0mline\u001b[0m\u001b[0;34m.\u001b[0m\u001b[0mstrip\u001b[0m\u001b[0;34m(\u001b[0m\u001b[0;34m)\u001b[0m\u001b[0;34m.\u001b[0m\u001b[0mdecode\u001b[0m\u001b[0;34m(\u001b[0m\u001b[0;34m\"ascii\"\u001b[0m\u001b[0;34m)\u001b[0m\u001b[0;34m.\u001b[0m\u001b[0msplit\u001b[0m\u001b[0;34m(\u001b[0m\u001b[0;34m','\u001b[0m\u001b[0;34m)\u001b[0m \u001b[0;32mfor\u001b[0m \u001b[0mline\u001b[0m \u001b[0;32min\u001b[0m \u001b[0mlines\u001b[0m\u001b[0;34m]\u001b[0m\u001b[0;34m\u001b[0m\u001b[0;34m\u001b[0m\u001b[0m\n",
            "\u001b[0;31mFileNotFoundError\u001b[0m: [Errno 2] No such file or directory: 'tests_Roman_numerals (1).txt'"
          ]
        }
      ]
    },
    {
      "cell_type": "markdown",
      "metadata": {
        "id": "I1dGcx2irtJ1",
        "colab_type": "text"
      },
      "source": [
        "## II. Decimal numbers to roman numerals.\n",
        "\n",
        "The maximum grade for first task (Roman to decimal) is 7 on the 10-point HSE scale. For extra credit, complete the second task: *given a decimal number, convert it to the Roman form*."
      ]
    },
    {
      "cell_type": "code",
      "metadata": {
        "id": "jaR5BNByrtJ2",
        "colab_type": "code",
        "colab": {}
      },
      "source": [
        "import sys\n",
        "  \n",
        "\n",
        "def decimal_to_roman(dec):\n",
        "    \"\"\"Convert a decimal to the Roman form.\n",
        "    \n",
        "    Parameters\n",
        "    ----------\n",
        "    dec : int\n",
        "        A positive integer number\n",
        "    \n",
        "    Returns\n",
        "    -------\n",
        "    rom : str\n",
        "        A string representation of a Roman numeral form of `dec`.\n",
        "    \"\"\"\n",
        "    if dec < 0 and dec >= 3999:\n",
        "      print(\"can't convert this!\")\n",
        "      sys.exit()\n",
        "    tmp = dec\n",
        "    rom = ''\n",
        "    base = 1000\n",
        "    while tmp > 0:\n",
        "      if tmp >= 9*base:\n",
        "        rom = rom + list(mapping.keys())[list(mapping.values()).index(base)] + list(mapping.keys())[list(mapping.values()).index(10*base)]\n",
        "        tmp = tmp - 9*base\n",
        "      elif tmp >= 5*base:\n",
        "        rom = rom + list(mapping.keys())[list(mapping.values()).index(5*base)]\n",
        "        tmp = tmp - 5*base    \n",
        "      elif tmp >= 4*base:\n",
        "        rom = rom + list(mapping.keys())[list(mapping.values()).index(base)] + list(mapping.keys())[list(mapping.values()).index(5*base)]\n",
        "        tmp = tmp - 4*base\n",
        "      while tmp >= base:\n",
        "        rom = rom + list(mapping.keys())[list(mapping.values()).index(base)]\n",
        "        tmp = tmp - base\n",
        "      base = int(base/10)\n",
        "    return rom"
      ],
      "execution_count": 0,
      "outputs": []
    },
    {
      "cell_type": "markdown",
      "metadata": {
        "id": "jtDBpTPurtJ5",
        "colab_type": "text"
      },
      "source": [
        "You need to come up with test cases to show that your conversion works as expected. \n",
        "NB: the conversion is ambiguous in some cases. Any valid conversion is accepted. "
      ]
    },
    {
      "cell_type": "markdown",
      "metadata": {
        "id": "gF2-ehYartJ7",
        "colab_type": "text"
      },
      "source": [
        "Now, put false decimal numbers from previous set of tests in ascending order, convert them to Roman numerals and list them in respected field in Google Form for this lesson."
      ]
    },
    {
      "cell_type": "code",
      "metadata": {
        "id": "vFtX7VoCrtJ8",
        "colab_type": "code",
        "outputId": "6421d159-1e64-43ef-819d-e1075f6fa46a",
        "colab": {
          "base_uri": "https://localhost:8080/",
          "height": 176
        }
      },
      "source": [
        "test_pairs = [(\"IX\", 9), (\"XI\", 11), (\"MCCII\", 1202), (\"MMXVIII\", 2018), (\"XLIX\", 49),\n",
        "              (\"XVIIII\", 19), (\"XIX\", 19), (\"MCDXLIV\", 1444), (\"MCMXCIX\", 1999)]\n",
        "\n",
        "for rom, dec in test_pairs:\n",
        "    converted = decimal_to_roman(dec)\n",
        "    print(converted == rom,dec, converted, rom)"
      ],
      "execution_count": 89,
      "outputs": [
        {
          "output_type": "stream",
          "text": [
            "True 9 IX IX\n",
            "True 11 XI XI\n",
            "True 1202 MCCII MCCII\n",
            "True 2018 MMXVIII MMXVIII\n",
            "True 49 XLIX XLIX\n",
            "False 19 XIX XVIIII\n",
            "True 19 XIX XIX\n",
            "True 1444 MCDXLIV MCDXLIV\n",
            "True 1999 MCMXCIX MCMXCIX\n"
          ],
          "name": "stdout"
        }
      ]
    },
    {
      "cell_type": "code",
      "metadata": {
        "id": "Th_Uh7BI8AEQ",
        "colab_type": "code",
        "colab": {}
      },
      "source": [
        ""
      ],
      "execution_count": 0,
      "outputs": []
    }
  ]
}