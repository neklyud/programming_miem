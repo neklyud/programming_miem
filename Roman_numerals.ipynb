{
  "nbformat": 4,
  "nbformat_minor": 0,
  "metadata": {
    "kernelspec": {
      "display_name": "Python 3",
      "language": "python",
      "name": "python3"
    },
    "language_info": {
      "codemirror_mode": {
        "name": "ipython",
        "version": 3
      },
      "file_extension": ".py",
      "mimetype": "text/x-python",
      "name": "python",
      "nbconvert_exporter": "python",
      "pygments_lexer": "ipython3",
      "version": "3.5.2"
    },
    "colab": {
      "name": "Roman_numerals.ipynb",
      "version": "0.3.2",
      "provenance": [],
      "collapsed_sections": [],
      "toc_visible": true,
      "include_colab_link": true
    }
  },
  "cells": [
    {
      "cell_type": "markdown",
      "metadata": {
        "id": "view-in-github",
        "colab_type": "text"
      },
      "source": [
        "<a href=\"https://colab.research.google.com/github/neklyud/programming_miem/blob/master/Roman_numerals.ipynb\" target=\"_parent\"><img src=\"https://colab.research.google.com/assets/colab-badge.svg\" alt=\"Open In Colab\"/></a>"
      ]
    },
    {
      "cell_type": "markdown",
      "metadata": {
        "id": "F2fEIVMertJh",
        "colab_type": "text"
      },
      "source": [
        "# Roman numerals"
      ]
    },
    {
      "cell_type": "markdown",
      "metadata": {
        "id": "4jrl0l8prtJj",
        "colab_type": "text"
      },
      "source": [
        "## I. Roman numerals to decimals\n",
        "\n",
        "Write a function which receives a Roman numeral written out as a string, and returns an integer representing the decimal form of the input number. "
      ]
    },
    {
      "cell_type": "code",
      "metadata": {
        "id": "Z_06wunErtJk",
        "colab_type": "code",
        "colab": {}
      },
      "source": [
        "mapping = {\"I\" : 1, \n",
        "           \"V\" : 5,\n",
        "           \"X\" : 10,\n",
        "           \"L\" : 50,\n",
        "           \"C\" : 100,\n",
        "           \"D\" : 500,\n",
        "           \"M\" : 1000}"
      ],
      "execution_count": 0,
      "outputs": []
    },
    {
      "cell_type": "code",
      "metadata": {
        "id": "SYsX4ikamrDb",
        "colab_type": "code",
        "outputId": "2556d627-353e-492e-f676-8638decba502",
        "colab": {
          "base_uri": "https://localhost:8080/",
          "height": 34
        }
      },
      "source": [
        "print(list(mapping.keys())[list(mapping.values()).index(1)])"
      ],
      "execution_count": 2,
      "outputs": [
        {
          "output_type": "stream",
          "text": [
            "I\n"
          ],
          "name": "stdout"
        }
      ]
    },
    {
      "cell_type": "code",
      "metadata": {
        "id": "Zt3VNdDBrtJo",
        "colab_type": "code",
        "colab": {}
      },
      "source": [
        "def roman_to_decimal(rom):\n",
        "    \"\"\"Convert a Roman numeral to decimal.\n",
        "    \n",
        "    Parameters\n",
        "    ----------\n",
        "    rom : str\n",
        "        A Roman numeral representing a positive integer.\n",
        "        \n",
        "    Returns\n",
        "    -------\n",
        "    dec : int\n",
        "        The result of conversion of `rom` into a decimal system.\n",
        "    \"\"\"\n",
        "    if len(rom) == 1:\n",
        "      return mapping[rom]\n",
        "    dec = 0\n",
        "    index = 1\n",
        "    #Используется для обозначения действия на предыдущем шаге. Допустимые значения - None (не было действий), Subtraction (Вычитание), Adding(сложение)\n",
        "    if mapping[rom[0]] >= mapping[rom[1]]:\n",
        "      flag = 'Adding'\n",
        "      dec += mapping[rom[0]]\n",
        "    else:\n",
        "      flag = 'Subtraction'\n",
        "      dec += mapping[rom[1]] - mapping[rom[0]]\n",
        "    for it,symbol in enumerate(rom[1:]):\n",
        "      if flag == 'Adding':\n",
        "        if index == len(rom) - 1:\n",
        "          dec += mapping[symbol]\n",
        "          break\n",
        "        if mapping[symbol] >= mapping[rom[index+1]]:\n",
        "          dec += mapping[symbol]\n",
        "          flag = 'Adding'\n",
        "        else:\n",
        "          dec += mapping[rom[index+1]] - mapping[symbol]\n",
        "          flag = 'Subtraction'\n",
        "      else:\n",
        "        if index == len(rom) - 1:\n",
        "          break\n",
        "        if mapping[symbol] >= mapping[rom[index+1]]:\n",
        "          flag = 'Adding'\n",
        "          index += 1\n",
        "          continue\n",
        "        else:\n",
        "          dec += mapping[rom[index+1]] - mapping[symbol]\n",
        "          flag = 'Subtraction'\n",
        "      index += 1\n",
        "    #print(dec)\n",
        "    return dec"
      ],
      "execution_count": 0,
      "outputs": []
    },
    {
      "cell_type": "markdown",
      "metadata": {
        "id": "VHJ3oVeBrtJr",
        "colab_type": "text"
      },
      "source": [
        "Here are some tests for you to test your code. Your code must pass all of them. You also need to come up with several more tests (your choice)."
      ]
    },
    {
      "cell_type": "code",
      "metadata": {
        "id": "dvX3Ewx-rtJs",
        "colab_type": "code",
        "outputId": "a5a32179-89e7-41c0-e189-ade6074ffd5c",
        "colab": {
          "base_uri": "https://localhost:8080/",
          "height": 170
        }
      },
      "source": [
        "test_pairs = [(\"IX\", 9), (\"XI\", 11), (\"MCCII\", 1202), (\"MMXVIII\", 2018), (\"XLIX\", 49),\n",
        "              (\"XVIIII\", 19), (\"XIX\", 19), (\"MCDXLIV\", 1444), (\"MCMXCIX\", 1999)]\n",
        "\n",
        "for rom, dec in test_pairs:\n",
        "    converted = roman_to_decimal(rom)\n",
        "    print(converted == dec)"
      ],
      "execution_count": 4,
      "outputs": [
        {
          "output_type": "stream",
          "text": [
            "True\n",
            "True\n",
            "True\n",
            "True\n",
            "True\n",
            "True\n",
            "True\n",
            "True\n",
            "True\n"
          ],
          "name": "stdout"
        }
      ]
    },
    {
      "cell_type": "markdown",
      "metadata": {
        "id": "WDDQelSNrtJv",
        "colab_type": "text"
      },
      "source": [
        "Now you can run tests in file `tests_Roman_numerals.txt`. You need to insert a number of false results and listed false results in respective field in Google Form for this lesson."
      ]
    },
    {
      "cell_type": "code",
      "metadata": {
        "id": "Rd8ks6QnrtJx",
        "colab_type": "code",
        "colab": {}
      },
      "source": [
        "p = \"tests_roman_to_decimal.txt\"\n",
        "with open(p, \"rb\") as fp:\n",
        "    lines=fp.readlines()\n",
        "false_tests_rd = []\n",
        "test_data = [line.strip().decode(\"ascii\").split(',') for line in lines]\n",
        "test_data = [(line[0], int(line[1])) for line in test_data]\n",
        "\n",
        "for rom, dec in test_data:\n",
        "    converted = roman_to_decimal(rom)\n",
        "    if (converted != dec):\n",
        "      false_tests_rd.append(converted)\n",
        "    #print(converted == dec, dec)"
      ],
      "execution_count": 0,
      "outputs": []
    },
    {
      "cell_type": "markdown",
      "metadata": {
        "id": "I1dGcx2irtJ1",
        "colab_type": "text"
      },
      "source": [
        "## II. Decimal numbers to roman numerals.\n",
        "\n",
        "The maximum grade for first task (Roman to decimal) is 7 on the 10-point HSE scale. For extra credit, complete the second task: *given a decimal number, convert it to the Roman form*."
      ]
    },
    {
      "cell_type": "code",
      "metadata": {
        "id": "jaR5BNByrtJ2",
        "colab_type": "code",
        "colab": {}
      },
      "source": [
        "import sys\n",
        "  \n",
        "\n",
        "def decimal_to_roman(dec):\n",
        "    \"\"\"Convert a decimal to the Roman form.\n",
        "    \n",
        "    Parameters\n",
        "    ----------\n",
        "    dec : int\n",
        "        A positive integer number\n",
        "    \n",
        "    Returns\n",
        "    -------\n",
        "    rom : str\n",
        "        A string representation of a Roman numeral form of `dec`.\n",
        "    \"\"\"\n",
        "    if dec < 0 and dec >= 3999:\n",
        "      print(\"can't convert this!\")\n",
        "      sys.exit()\n",
        "    tmp = dec\n",
        "    rom = ''\n",
        "    base = 1000\n",
        "    while tmp > 0:\n",
        "      if tmp >= 9*base:\n",
        "        rom = rom + list(mapping.keys())[list(mapping.values()).index(base)] + list(mapping.keys())[list(mapping.values()).index(10*base)]\n",
        "        tmp = tmp - 9*base\n",
        "      elif tmp >= 5*base:\n",
        "        rom = rom + list(mapping.keys())[list(mapping.values()).index(5*base)]\n",
        "        tmp = tmp - 5*base    \n",
        "      elif tmp >= 4*base:\n",
        "        rom = rom + list(mapping.keys())[list(mapping.values()).index(base)] + list(mapping.keys())[list(mapping.values()).index(5*base)]\n",
        "        tmp = tmp - 4*base\n",
        "      while tmp >= base:\n",
        "        rom = rom + list(mapping.keys())[list(mapping.values()).index(base)]\n",
        "        tmp = tmp - base\n",
        "      base = int(base/10)\n",
        "    return rom"
      ],
      "execution_count": 0,
      "outputs": []
    },
    {
      "cell_type": "markdown",
      "metadata": {
        "id": "jtDBpTPurtJ5",
        "colab_type": "text"
      },
      "source": [
        "You need to come up with test cases to show that your conversion works as expected. \n",
        "NB: the conversion is ambiguous in some cases. Any valid conversion is accepted. "
      ]
    },
    {
      "cell_type": "markdown",
      "metadata": {
        "id": "gF2-ehYartJ7",
        "colab_type": "text"
      },
      "source": [
        "Now, put false decimal numbers from previous set of tests in ascending order, convert them to Roman numerals and list them in respected field in Google Form for this lesson."
      ]
    },
    {
      "cell_type": "code",
      "metadata": {
        "id": "vFtX7VoCrtJ8",
        "colab_type": "code",
        "outputId": "771cb4b4-e316-42d5-f78c-7e1e62859009",
        "colab": {
          "base_uri": "https://localhost:8080/",
          "height": 170
        }
      },
      "source": [
        "test_pairs = [(\"IX\", 9), (\"XI\", 11), (\"MCCII\", 1202), (\"MMXVIII\", 2018), (\"XLIX\", 49),\n",
        "              (\"XVIIII\", 19), (\"XIX\", 19), (\"MCDXLIV\", 1444), (\"MCMXCIX\", 1999)]\n",
        "\n",
        "for rom, dec in test_pairs:\n",
        "    converted = decimal_to_roman(dec)\n",
        "    print(converted == rom,dec, converted, rom)"
      ],
      "execution_count": 55,
      "outputs": [
        {
          "output_type": "stream",
          "text": [
            "True 9 IX IX\n",
            "True 11 XI XI\n",
            "True 1202 MCCII MCCII\n",
            "True 2018 MMXVIII MMXVIII\n",
            "True 49 XLIX XLIX\n",
            "False 19 XIX XVIIII\n",
            "True 19 XIX XIX\n",
            "True 1444 MCDXLIV MCDXLIV\n",
            "True 1999 MCMXCIX MCMXCIX\n"
          ],
          "name": "stdout"
        }
      ]
    },
    {
      "cell_type": "code",
      "metadata": {
        "id": "Th_Uh7BI8AEQ",
        "colab_type": "code",
        "colab": {}
      },
      "source": [
        "p = \"tests_decimal_to_roman.txt\"\n",
        "with open(p, \"rb\") as fp:\n",
        "    lines=fp.readlines()\n",
        "\n",
        "test_data = [line.strip().decode(\"ascii\").split(',') for line in lines]\n",
        "test_data = [(line[0], int(line[1])) for line in test_data]\n",
        "false_tests_dr = []\n",
        "for rom, dec in test_data:\n",
        "    converted = decimal_to_roman(dec)\n",
        "    if converted != rom:\n",
        "      false_tests_dr.append(converted)\n",
        "    #print(converted == rom, dec)"
      ],
      "execution_count": 0,
      "outputs": []
    },
    {
      "cell_type": "code",
      "metadata": {
        "id": "R43fO-3IUinP",
        "colab_type": "code",
        "colab": {
          "base_uri": "https://localhost:8080/",
          "height": 34
        },
        "outputId": "892b9788-55c9-4fd3-8501-02f1c4780c90"
      },
      "source": [
        "#Отсортированный по возрастанию список ложных результатов для файла roman to decimal\n",
        "false_tests_rd\n",
        "print(sorted(false_tests_rd))"
      ],
      "execution_count": 58,
      "outputs": [
        {
          "output_type": "stream",
          "text": [
            "[84, 429, 797, 1248, 1270, 1710, 1791]\n"
          ],
          "name": "stdout"
        }
      ]
    },
    {
      "cell_type": "code",
      "metadata": {
        "id": "IapITvORvGst",
        "colab_type": "code",
        "colab": {
          "base_uri": "https://localhost:8080/",
          "height": 51
        },
        "outputId": "9f894375-eae4-4dfe-eb09-ebec4fbf6de7"
      },
      "source": [
        "#Ложные тесты для перевода decimal to roman\n",
        "print(false_tests_dr)\n",
        "dec = []\n",
        "for i in false_tests_dr:\n",
        "  dec.append(roman_to_decimal(i))\n",
        "rom = []\n",
        "dec = sorted(dec)\n",
        "for i in dec:\n",
        "  rom.append(decimal_to_roman(i))\n",
        "print(rom)"
      ],
      "execution_count": 59,
      "outputs": [
        {
          "output_type": "stream",
          "text": [
            "['MDCCCLXXXVI', 'CMLXXVIII', 'MDCCCXLI', 'MDCCCIV', 'MDCCCVII', 'MCMLXXV']\n",
            "['CMLXXVIII', 'MDCCCIV', 'MDCCCVII', 'MDCCCXLI', 'MDCCCLXXXVI', 'MCMLXXV']\n"
          ],
          "name": "stdout"
        }
      ]
    },
    {
      "cell_type": "code",
      "metadata": {
        "id": "ugC_-ITmR87l",
        "colab_type": "code",
        "colab": {}
      },
      "source": [
        ""
      ],
      "execution_count": 0,
      "outputs": []
    }
  ]
}