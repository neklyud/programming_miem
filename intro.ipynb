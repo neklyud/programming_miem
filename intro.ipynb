{
  "nbformat": 4,
  "nbformat_minor": 0,
  "metadata": {
    "kernelspec": {
      "display_name": "Python 3",
      "language": "python",
      "name": "python3"
    },
    "language_info": {
      "codemirror_mode": {
        "name": "ipython",
        "version": 3
      },
      "file_extension": ".py",
      "mimetype": "text/x-python",
      "name": "python",
      "nbconvert_exporter": "python",
      "pygments_lexer": "ipython3",
      "version": "3.5.2"
    },
    "colab": {
      "name": "intro.ipynb",
      "version": "0.3.2",
      "provenance": [],
      "include_colab_link": true
    }
  },
  "cells": [
    {
      "cell_type": "markdown",
      "metadata": {
        "id": "view-in-github",
        "colab_type": "text"
      },
      "source": [
        "<a href=\"https://colab.research.google.com/github/neklyud/programming_miem/blob/master/intro.ipynb\" target=\"_parent\"><img src=\"https://colab.research.google.com/assets/colab-badge.svg\" alt=\"Open In Colab\"/></a>"
      ]
    },
    {
      "cell_type": "markdown",
      "metadata": {
        "id": "gSMiduTZouAr",
        "colab_type": "text"
      },
      "source": [
        "# Introduction to programming in Python\n",
        "\n",
        "### Learning goals:\n",
        "* Solve simple problems that a human cannot solve manually\n",
        "* Use basic programming elements\n",
        "* Formulate questions and find answers by googling\n",
        "\n",
        "### The big problem to solve:\n",
        "\n",
        "We're going to solve this problem (problem \\#1 from https://projecteuler.net/):\n",
        "\n",
        "> If we list all the natural numbers below 10 that are multiples of 3 or 5, we get 3, 5, 6 and 9. The sum of these multiples is 23.\n",
        "\n",
        "> Find the sum of all the multiples of 3 or 5 below 1000."
      ]
    },
    {
      "cell_type": "markdown",
      "metadata": {
        "id": "AR4VgeikouAs",
        "colab_type": "text"
      },
      "source": [
        "## Programming languages\n",
        "\n",
        "Programming is just writing instructions for computer.\n",
        "We're going to choose Python as the programming language to write these instructions. Here's why:\n",
        "\n",
        "![](https://imgs.xkcd.com/comics/python.png)\n",
        "\n",
        "(CC-BY-NC 2.5, Randall Munroe, xkcd.com/353)\n",
        "\n",
        "### Executing instructions\n",
        "\n",
        "Let's try our first instruction, a classic example:"
      ]
    },
    {
      "cell_type": "code",
      "metadata": {
        "id": "tM0663X-ouAt",
        "colab_type": "code",
        "colab": {
          "base_uri": "https://localhost:8080/",
          "height": 34
        },
        "outputId": "00c408db-0b97-43f7-ea2b-3e437aff739b"
      },
      "source": [
        "print(\"Hello world!\")  # Press Shift+Enter to execute this cell, or the \"forward button\" at the top panel"
      ],
      "execution_count": 2,
      "outputs": [
        {
          "output_type": "stream",
          "text": [
            "Hello world!\n"
          ],
          "name": "stdout"
        }
      ]
    },
    {
      "cell_type": "markdown",
      "metadata": {
        "id": "p8LZtnkMouAw",
        "colab_type": "text"
      },
      "source": [
        "Here `print` is a function, `\"Hello world!\"` is its argument, and the function is an instruction to print the argument.\n",
        "\n",
        "**First exercise**: in the empty cell below print two different things (BTW, you can also print a number, numbers will be useful to us later)."
      ]
    },
    {
      "cell_type": "code",
      "metadata": {
        "id": "gsOauxwlouAx",
        "colab_type": "code",
        "colab": {
          "base_uri": "https://localhost:8080/",
          "height": 34
        },
        "outputId": "a4c4aac9-e4cd-4681-ae4b-e0021b92cbd5"
      },
      "source": [
        "print(\"Hello, \", \"world\")"
      ],
      "execution_count": 3,
      "outputs": [
        {
          "output_type": "stream",
          "text": [
            "Hello,  world\n"
          ],
          "name": "stdout"
        }
      ]
    },
    {
      "cell_type": "markdown",
      "metadata": {
        "id": "am03xUFlouA0",
        "colab_type": "text"
      },
      "source": [
        "### Variables\n",
        "\n",
        "For solving the problem we'll need to use *variables*, these are like labels for things to be stored in computer memory.\n",
        "\n",
        "So we create a variable named `x`, and instruct computer to store a value 1 in it:"
      ]
    },
    {
      "cell_type": "code",
      "metadata": {
        "id": "_AaMb0j4ouA1",
        "colab_type": "code",
        "colab": {
          "base_uri": "https://localhost:8080/",
          "height": 34
        },
        "outputId": "dd35cdde-7b58-4796-fcb9-327e2b8787f7"
      },
      "source": [
        "x = 1\n",
        "print(x)"
      ],
      "execution_count": 8,
      "outputs": [
        {
          "output_type": "stream",
          "text": [
            "1\n"
          ],
          "name": "stdout"
        }
      ]
    },
    {
      "cell_type": "markdown",
      "metadata": {
        "id": "UhxD3Fr4ouA4",
        "colab_type": "text"
      },
      "source": [
        "**Second exercise**: Using the cell below\n",
        "* Set the value of `y` to be `x + 1`. Check what happens to the value of `x` after that.\n",
        "* Set the value of `x` to be equal to `y`."
      ]
    },
    {
      "cell_type": "code",
      "metadata": {
        "id": "-3mtUEgrouA5",
        "colab_type": "code",
        "colab": {
          "base_uri": "https://localhost:8080/",
          "height": 34
        },
        "outputId": "63fd19e0-0d7d-422f-afaf-a6f6178b7a5c"
      },
      "source": [
        "y = x + 1\n",
        "x = y\n",
        "print(y, x)"
      ],
      "execution_count": 9,
      "outputs": [
        {
          "output_type": "stream",
          "text": [
            "2 2\n"
          ],
          "name": "stdout"
        }
      ]
    },
    {
      "cell_type": "markdown",
      "metadata": {
        "id": "XyM2suQsouA8",
        "colab_type": "text"
      },
      "source": [
        "### Conditions\n",
        "\n",
        "For the program to be non-trivial, we need to issue instructions that depend on previous ones, so we need *conditional statements*. Try to guess what the next lines will do. Check your guess."
      ]
    },
    {
      "cell_type": "code",
      "metadata": {
        "id": "VRswmBDcouA9",
        "colab_type": "code",
        "colab": {
          "base_uri": "https://localhost:8080/",
          "height": 34
        },
        "outputId": "9b43c6a6-b020-4705-a8d9-c9731221238e"
      },
      "source": [
        "x = 5\n",
        "if x < 4:\n",
        "    print(\"Smaller.\")\n",
        "else:\n",
        "    print(\"Larger.\")"
      ],
      "execution_count": 10,
      "outputs": [
        {
          "output_type": "stream",
          "text": [
            "Larger.\n"
          ],
          "name": "stdout"
        }
      ]
    },
    {
      "cell_type": "markdown",
      "metadata": {
        "id": "ZBIJPd1FouBA",
        "colab_type": "text"
      },
      "source": [
        "A couple of remarks about the syntax: as you see, the condition lines end with `:`, and the lines that describe the instructions of what to do in each case are indented by 4 spaces. These are just the rules, follow them.\n",
        "\n",
        "**Third exercise**:\n",
        "* What happens if you assign the value `(x < 4)` to `y`, what will printing `y` give?\n",
        "* Can you check if x is one of the following: either smaller than 4 or larger than 10? How would you do it?"
      ]
    },
    {
      "cell_type": "code",
      "metadata": {
        "id": "XJykLyQYouBB",
        "colab_type": "code",
        "colab": {}
      },
      "source": [
        ""
      ],
      "execution_count": 0,
      "outputs": []
    },
    {
      "cell_type": "markdown",
      "metadata": {
        "id": "aFPpc0gLouBF",
        "colab_type": "text"
      },
      "source": [
        "### Loops\n",
        "\n",
        "We're almost set to solve the big problem. There we need to perform an action (check divisibility) for a bunch of numbers. Doing something many times is called a loop, let's try one of those."
      ]
    },
    {
      "cell_type": "code",
      "metadata": {
        "id": "DsbLESYGouBG",
        "colab_type": "code",
        "colab": {
          "base_uri": "https://localhost:8080/",
          "height": 187
        },
        "outputId": "8b504359-b8b5-4e61-86a3-f8172d1e64c7"
      },
      "source": [
        "for x in range(10):\n",
        "    print(x)"
      ],
      "execution_count": 11,
      "outputs": [
        {
          "output_type": "stream",
          "text": [
            "0\n",
            "1\n",
            "2\n",
            "3\n",
            "4\n",
            "5\n",
            "6\n",
            "7\n",
            "8\n",
            "9\n"
          ],
          "name": "stdout"
        }
      ]
    },
    {
      "cell_type": "markdown",
      "metadata": {
        "id": "0qDR6hbtouBL",
        "colab_type": "text"
      },
      "source": [
        "\n",
        "\n",
        "```\n",
        "`# This is formatted as code`\n",
        "```\n",
        "\n",
        "Observe that the values of `x` start from 0, and end with 9.\n",
        "\n",
        "**Fourth exercise**:  \n",
        "Calculate a sum of all integers smaller than 10."
      ]
    },
    {
      "cell_type": "markdown",
      "metadata": {
        "id": "50e_NLflouBN",
        "colab_type": "text"
      },
      "source": [
        "### Now let's solve the problem!\n",
        "\n",
        "As a first step, we're missing a piece. How do we check if `x` is divisible by 3? Do you know the answer? If I wasn't here, how would you figure it out?\n",
        "\n",
        "Now, having all the tools available, combine them to solve the problem.\n",
        "\n",
        "When searching for error, use *tests*. Is there anything in the problem description that can help you check if your code is correct?"
      ]
    },
    {
      "cell_type": "code",
      "metadata": {
        "id": "F9yk6LjDouBQ",
        "colab_type": "code",
        "colab": {
          "base_uri": "https://localhost:8080/",
          "height": 34
        },
        "outputId": "1ac0bf74-b45d-4950-f98a-6f7da05b4a18"
      },
      "source": [
        "sum = 0\n",
        "for x in range(10):\n",
        "    sum += x\n",
        "print(sum)"
      ],
      "execution_count": 13,
      "outputs": [
        {
          "output_type": "stream",
          "text": [
            "45\n"
          ],
          "name": "stdout"
        }
      ]
    }
  ]
}