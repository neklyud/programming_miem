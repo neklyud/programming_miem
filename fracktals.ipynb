{
  "nbformat": 4,
  "nbformat_minor": 0,
  "metadata": {
    "colab": {
      "name": "fracktals",
      "provenance": [],
      "collapsed_sections": [],
      "include_colab_link": true
    },
    "kernelspec": {
      "name": "python3",
      "display_name": "Python 3"
    }
  },
  "cells": [
    {
      "cell_type": "markdown",
      "metadata": {
        "id": "view-in-github",
        "colab_type": "text"
      },
      "source": [
        "<a href=\"https://colab.research.google.com/github/neklyud/programming_miem/blob/master/fracktals.ipynb\" target=\"_parent\"><img src=\"https://colab.research.google.com/assets/colab-badge.svg\" alt=\"Open In Colab\"/></a>"
      ]
    },
    {
      "cell_type": "code",
      "metadata": {
        "id": "FbzG5Zfb06G0",
        "colab_type": "code",
        "colab": {}
      },
      "source": [
        "def newton_set(width, height, zoom=1, x_off=0, y_off=0, niter=256):\n",
        "    \"\"\" Fractals using newton-raphson \"\"\"\n",
        "\n",
        "    # Pixels array\n",
        "    pixels = np.arange(width*height*3, dtype=np.uint32).reshape(height, width, 3)\n",
        "    xa, xb, ya, yb = -2.5, 2.5, -2.5, 2.5\n",
        "    h = 1e-7 # step size for numerical derivative\n",
        "    eps = 1e-3 # max error allowed\n",
        "    # Bounding roots\n",
        "    r1 = 1\n",
        "    r2 = complex(-0.5, math.sin(2*math.pi/3))\n",
        "    r3 = complex(-0.5, -1*math.sin(2*math.pi/3))\n",
        "\n",
        "    # Color multiplication factor\n",
        "    # NOTE: Increasing this darkens the image and lightens it otherwise\n",
        "    multcol = 5\n",
        "    for y in range(height):\n",
        "        zy = (y + y_off) * (yb - ya) / (zoom*(height - 1)) + ya\n",
        "\n",
        "        for x in range(width):\n",
        "            zx = (x + x_off) * (xb - xa) / (zoom*(width - 1)) + xa\n",
        "\n",
        "            # Mapping real -> complex plane\n",
        "            z = complex(zx, zy)\n",
        "            count = 0\n",
        "            \n",
        "            for i in range(niter):\n",
        "                # complex numerical derivative\n",
        "                dz = (fcube(z + complex(h, h)) - fcube(z)) / complex(h, h)\n",
        "                if dz == 0:\n",
        "                    break\n",
        "\n",
        "                count += 1\n",
        "                if count > 255:\n",
        "                    break\n",
        "                \n",
        "                znext = z - fcube(z) / dz # Newton iteration\n",
        "                if abs(znext - z) < eps: # stop when close enough to any root\n",
        "                    break\n",
        "                \n",
        "                z = znext\n",
        "\n",
        "            # Pixels colored using the roots\n",
        "            if abs(z-r1)<eps:\n",
        "                # color red\n",
        "                pixels[y,x] = (255 - count*multcol, 0, 0)\n",
        "            elif abs(z-r2)<=eps:\n",
        "                # color green\n",
        "                pixels[y,x] = (0, 255 - count*multcol, 0)\n",
        "            elif abs(z-r3)<=eps:\n",
        "                # color blue\n",
        "                pixels[y,x] = (0, 0, 255 - count*multcol)\n",
        "    return pixels"
      ],
      "execution_count": 0,
      "outputs": []
    },
    {
      "cell_type": "code",
      "metadata": {
        "id": "gaR1iNiTF1DA",
        "colab_type": "code",
        "colab": {}
      },
      "source": [
        "def fcube(z):\n",
        "    return z ** 3 - 1"
      ],
      "execution_count": 0,
      "outputs": []
    },
    {
      "cell_type": "code",
      "metadata": {
        "id": "Fs3Fr5AOEqp_",
        "colab_type": "code",
        "colab": {}
      },
      "source": [
        "def display(width=1024, height=1024, niter=1024, zoom=1, x_off=0, y_off=0):\n",
        "    \"\"\" Display a newton-raphson fractal \"\"\"\n",
        "    pimg = newton_set(width, height, zoom=zoom, x_off=x_off, y_off=y_off, niter=niter)\n",
        "    plt.axis('off')\n",
        "    plt.imshow(pimg)\n",
        "    plt.show()"
      ],
      "execution_count": 0,
      "outputs": []
    },
    {
      "cell_type": "code",
      "metadata": {
        "id": "i7--zpCPGN07",
        "colab_type": "code",
        "outputId": "bf90b676-7439-42e9-ad1f-f7feeea68f32",
        "colab": {
          "base_uri": "https://localhost:8080/",
          "height": 286
        }
      },
      "source": [
        "#display(zoom=1, x_off=-50, y_off=50)\n",
        "display()"
      ],
      "execution_count": 0,
      "outputs": [
        {
          "output_type": "stream",
          "text": [
            "Clipping input data to the valid range for imshow with RGB data ([0..1] for floats or [0..255] for integers).\n"
          ],
          "name": "stderr"
        },
        {
          "output_type": "display_data",
          "data": {
            "image/png": "[encoded data removed]",
            "text/plain": [
              "<Figure size 432x288 with 1 Axes>"
            ]
          },
          "metadata": {
            "tags": []
          }
        }
      ]
    },
    {
      "cell_type": "code",
      "metadata": {
        "id": "ung-P7SZExg2",
        "colab_type": "code",
        "colab": {}
      },
      "source": [
        ""
      ],
      "execution_count": 0,
      "outputs": []
    },
    {
      "cell_type": "code",
      "metadata": {
        "id": "TEf5g5wDFQAQ",
        "colab_type": "code",
        "colab": {}
      },
      "source": [
        ""
      ],
      "execution_count": 0,
      "outputs": []
    }
  ]
}