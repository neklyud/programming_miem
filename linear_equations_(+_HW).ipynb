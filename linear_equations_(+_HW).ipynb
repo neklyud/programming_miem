{
  "nbformat": 4,
  "nbformat_minor": 0,
  "metadata": {
    "kernelspec": {
      "display_name": "Python 3",
      "language": "python",
      "name": "python3"
    },
    "language_info": {
      "codemirror_mode": {
        "name": "ipython",
        "version": 3
      },
      "file_extension": ".py",
      "mimetype": "text/x-python",
      "name": "python",
      "nbconvert_exporter": "python",
      "pygments_lexer": "ipython3",
      "version": "3.7.0"
    },
    "colab": {
      "name": "linear equations (+ HW).ipynb",
      "provenance": [],
      "collapsed_sections": [],
      "include_colab_link": true
    }
  },
  "cells": [
    {
      "cell_type": "markdown",
      "metadata": {
        "id": "view-in-github",
        "colab_type": "text"
      },
      "source": [
        "<a href=\"https://colab.research.google.com/github/neklyud/programming_miem/blob/master/linear_equations_(%2B_HW).ipynb\" target=\"_parent\"><img src=\"https://colab.research.google.com/assets/colab-badge.svg\" alt=\"Open In Colab\"/></a>"
      ]
    },
    {
      "cell_type": "markdown",
      "metadata": {
        "id": "7KXE1DHIdt8r",
        "colab_type": "text"
      },
      "source": [
        "# Solving linear equations"
      ]
    },
    {
      "cell_type": "markdown",
      "metadata": {
        "id": "ZGHnwaoWdt8t",
        "colab_type": "text"
      },
      "source": [
        "# I. $LU$ factorization of a square matrix"
      ]
    },
    {
      "cell_type": "markdown",
      "metadata": {
        "id": "u_mrdnbUdt8w",
        "colab_type": "text"
      },
      "source": [
        "Let us consider a decomposition of a square $n \\times n$ matrix A as follows:\n",
        "$$A = L \\cdot U, \\; \\mbox{where} \\; A = \\begin{pmatrix} \n",
        "                                            a_{11} & a_{12} & a_{13} & \\ldots & a_{1n} \\\\\n",
        "                                            a_{21} & a_{22} & a_{23} & \\ldots & a_{2n} \\\\\n",
        "                                            a_{31} & a_{32} & a_{33} & \\ldots & a_{3n} \\\\\n",
        "                                            \\vdots & \\vdots & \\vdots & \\ddots & \\vdots \\\\\n",
        "                                            a_{n1} & a_{n2} & a_{n3} & \\ldots & a_{nn} \\\\\n",
        "                                        \\end{pmatrix}\n",
        "                               , \\; L = \\begin{pmatrix} \n",
        "                                            1 & 0 & 0 & \\ldots & 0 \\\\\n",
        "                                            * & 1 & 0 & \\ldots & 0 \\\\\n",
        "                                            * & * & 1 & \\ldots & 0 \\\\\n",
        "                                            \\vdots & \\vdots & \\vdots & \\ddots & \\vdots \\\\\n",
        "                                            * & * & * & \\ldots & 1 \\\\\n",
        "                                        \\end{pmatrix}\n",
        "                               , \\; U = \\begin{pmatrix} \n",
        "                                            a_{11} & * & * & \\ldots & * \\\\\n",
        "                                            0 & a_{22} & * & \\ldots & * \\\\\n",
        "                                            0 & 0 & a_{33} & \\ldots & * \\\\\n",
        "                                            \\vdots & \\vdots & \\vdots & \\ddots & \\vdots \\\\\n",
        "                                            0 & 0 & 0 & \\ldots & a_{nn} \\\\\n",
        "                                        \\end{pmatrix} .$$"
      ]
    },
    {
      "cell_type": "markdown",
      "metadata": {
        "id": "FWjGgblJdt8x",
        "colab_type": "text"
      },
      "source": [
        "Let's start with Gaussian elimination. When we are working with the first column, we combine the first row and the second row multiplied by coefficient $$\\gamma_{21} = \\cfrac{a_{21}}{a{11}};$$ then the first row and the third row multiplied by coefficient $$\\gamma_{31} = \\cfrac{a_{31}}{a{11}},$$ and so on."
      ]
    },
    {
      "cell_type": "markdown",
      "metadata": {
        "id": "R3dxO9rBdt8z",
        "colab_type": "text"
      },
      "source": [
        "Hereby, to eliminate all elements below $a_{11}$ we need to multiply matrix A by matrix $$\\Lambda_1 = \\begin{pmatrix} \n",
        "                                                        1 & 0 & 0 & \\ldots & 0 \\\\\n",
        "                                                        -\\gamma_{21} & 1 & 0 & \\ldots & 0 \\\\\n",
        "                                                        -\\gamma_{31} & 0 & 1 & \\ldots & 0 \\\\\n",
        "                                                        \\vdots & \\vdots & \\vdots & \\ddots & \\vdots \\\\\n",
        "                                                        -\\gamma_{n1} & 0 & 0 & \\ldots & 1 \\\\\n",
        "                                                    \\end{pmatrix}$$\n",
        "(prove it by trying to act with $\\Lambda_1$ on the first column of matrix A)."
      ]
    },
    {
      "cell_type": "markdown",
      "metadata": {
        "id": "1UyLEOxpdt81",
        "colab_type": "text"
      },
      "source": [
        "Likewise, we can construct matrix $\\Lambda_2$ as $$\\Lambda_2 = \\begin{pmatrix} \n",
        "                                                                1 & 0 & 0 & \\ldots & 0 \\\\\n",
        "                                                                0 & 1 & 0 & \\ldots & 0 \\\\\n",
        "                                                                0 & -\\gamma_{32} & 1 & \\ldots & 0 \\\\\n",
        "                                                                \\vdots & \\vdots & \\vdots & \\ddots & \\vdots \\\\\n",
        "                                                                0 & -\\gamma_{n2} & 0 & \\ldots & 1 \\\\\n",
        "                                                            \\end{pmatrix}.$$"
      ]
    },
    {
      "cell_type": "markdown",
      "metadata": {
        "id": "2WIHiVxidt82",
        "colab_type": "text"
      },
      "source": [
        "Finally, we will get the upper triangular matrix $$U = \\Lambda_n \\cdot \\Lambda_{n-1} \\cdot \\ldots \\cdot \\Lambda_2 \\cdot \\Lambda_1 A. $$\n",
        "Hence the lower triangular matrix $L = \\Lambda_1^{-1} \\cdot \\Lambda_2^{-1} \\cdot \\ldots \\cdot \\Lambda_{n-1}^{-1} \\cdot \\Lambda_n^{-1}.$"
      ]
    },
    {
      "cell_type": "markdown",
      "metadata": {
        "id": "F7VTNxDbdt84",
        "colab_type": "text"
      },
      "source": [
        "One can show that, for example, $$\\Lambda_1^{-1} = \\begin{pmatrix} \n",
        "                                                        1 & 0 & 0 & \\ldots & 0 \\\\\n",
        "                                                        \\gamma_{21} & 1 & 0 & \\ldots & 0 \\\\\n",
        "                                                        \\gamma_{31} & 0 & 1 & \\ldots & 0 \\\\\n",
        "                                                        \\vdots & \\vdots & \\vdots & \\ddots & \\vdots \\\\\n",
        "                                                        \\gamma_{n1} & 0 & 0 & \\ldots & 1 \\\\\n",
        "                                                    \\end{pmatrix}$$"
      ]
    },
    {
      "cell_type": "markdown",
      "metadata": {
        "id": "rtarWTRIdt87",
        "colab_type": "text"
      },
      "source": [
        "Note that we're using the `numpy` arrays to represent matrices [do **not** use `np.matrix`]."
      ]
    },
    {
      "cell_type": "code",
      "metadata": {
        "id": "mkxYDWd0dt89",
        "colab_type": "code",
        "colab": {}
      },
      "source": [
        "import numpy as np\n",
        "\n",
        "def diy_lu_ext(a):\n",
        "    \"\"\"\n",
        "    Construct the LU decomposition of the input matrix.\n",
        "    \n",
        "    Naive LU decomposition: work column by column, accumulate elementary triangular matrices.\n",
        "    No pivoting.\n",
        "    \"\"\"\n",
        "    N = a.shape[0]\n",
        "    \n",
        "    #Initializing the factors\n",
        "    u = a.copy()\n",
        "    L = np.eye(N)\n",
        "    \n",
        "    for j in range(N-1):\n",
        "        lam = np.eye(N)\n",
        "        \n",
        "        #Creating the vector of gammas\n",
        "        gamma = np.zeros(N-j-1)\n",
        "        for i in range(N-j-1):\n",
        "            gamma[i] = u[j+1+i, j]/u[j, j]\n",
        "        \n",
        "        #Creating matrix \\Lambda_i\n",
        "        for i in range(N-j-1):\n",
        "            lam[j+1+i, j] = -gamma[i]\n",
        "        \n",
        "        #Acting with \\Lambda_i on A to get U\n",
        "        u_new = np.zeros((N, N))\n",
        "        for ind_i in range(N):\n",
        "            for ind_j in range(N):\n",
        "                for ind_k in range(N):\n",
        "                    u_new[ind_i, ind_j] += lam[ind_i, ind_k] * u[ind_k, ind_j]\n",
        "        u = u_new.copy()\n",
        "        \n",
        "        #Creating matrix \\Lambda_i^{-1}\n",
        "        for i in range(N-j-1):\n",
        "            lam[j+1+i, j] = gamma[i]\n",
        "            \n",
        "        #Multiplying L and \\Lambda_i^{-1} o get new L\n",
        "        L_new = np.zeros((N, N))\n",
        "        for ind_i in range(N):\n",
        "            for ind_j in range(N):\n",
        "                for ind_k in range(N):\n",
        "                    L_new[ind_i, ind_j] += L[ind_i, ind_k] * lam[ind_k, ind_j]\n",
        "        L = L_new.copy()\n",
        "        \n",
        "    return L, u"
      ],
      "execution_count": 0,
      "outputs": []
    },
    {
      "cell_type": "code",
      "metadata": {
        "id": "y6Y3FGbDdt9C",
        "colab_type": "code",
        "outputId": "6088fb77-2d60-4fb5-b830-c163e9f6fe1b",
        "colab": {
          "base_uri": "https://localhost:8080/",
          "height": 34
        }
      },
      "source": [
        "# Now, generate a full rank matrix and test the naive implementation\n",
        "\n",
        "import numpy as np\n",
        "\n",
        "N = 6\n",
        "a = np.zeros((N, N), dtype=float)\n",
        "for i in range(N):\n",
        "    for j in range(N):\n",
        "        a[i, j] = 3. / (0.6*i*j + 1)\n",
        "\n",
        "np.linalg.matrix_rank(a)"
      ],
      "execution_count": 2,
      "outputs": [
        {
          "output_type": "execute_result",
          "data": {
            "text/plain": [
              "6"
            ]
          },
          "metadata": {
            "tags": []
          },
          "execution_count": 2
        }
      ]
    },
    {
      "cell_type": "code",
      "metadata": {
        "scrolled": false,
        "id": "pAqZiBLEdt9M",
        "colab_type": "code",
        "outputId": "1de77f24-3651-4aeb-ebc5-0c0a6b004b1f",
        "colab": {
          "base_uri": "https://localhost:8080/",
          "height": 221
        }
      },
      "source": [
        "L, u = diy_lu_ext(a)\n",
        "print(L@u - a)"
      ],
      "execution_count": 3,
      "outputs": [
        {
          "output_type": "stream",
          "text": [
            "[[ 0.00000000e+00  0.00000000e+00  0.00000000e+00  0.00000000e+00\n",
            "   0.00000000e+00  0.00000000e+00]\n",
            " [ 0.00000000e+00  0.00000000e+00  0.00000000e+00  0.00000000e+00\n",
            "   0.00000000e+00  0.00000000e+00]\n",
            " [ 0.00000000e+00  0.00000000e+00 -1.11022302e-16  1.11022302e-16\n",
            "   1.11022302e-16 -5.55111512e-17]\n",
            " [ 0.00000000e+00  0.00000000e+00  3.33066907e-16 -2.22044605e-16\n",
            "  -5.55111512e-17  0.00000000e+00]\n",
            " [ 0.00000000e+00  0.00000000e+00  0.00000000e+00 -1.11022302e-16\n",
            "  -1.66533454e-16  0.00000000e+00]\n",
            " [ 0.00000000e+00  0.00000000e+00 -1.11022302e-16 -2.77555756e-16\n",
            "   1.11022302e-16  1.11022302e-16]]\n"
          ],
          "name": "stdout"
        }
      ]
    },
    {
      "cell_type": "markdown",
      "metadata": {
        "id": "0DSC1d4Ddt9S",
        "colab_type": "text"
      },
      "source": [
        "LU can be programmed in a more simple way by using the perks of `numpy`."
      ]
    },
    {
      "cell_type": "code",
      "metadata": {
        "id": "-PT109WWdt9U",
        "colab_type": "code",
        "colab": {}
      },
      "source": [
        "import numpy as np\n",
        "\n",
        "def diy_lu(a):\n",
        "    \"\"\"\n",
        "    Construct the LU decomposition of the input matrix.\n",
        "    \n",
        "    Naive LU decomposition: work column by column, accumulate elementary triangular matrices.\n",
        "    No pivoting.\n",
        "    \"\"\"\n",
        "    N = a.shape[0]\n",
        "    \n",
        "    u = a.copy()\n",
        "    L = np.eye(N)\n",
        "    for j in range(N-1):\n",
        "        lam = np.eye(N)\n",
        "        \n",
        "        #Creating the vector of gammas\n",
        "        gamma = u[j+1:, j] / u[j, j]\n",
        "        \n",
        "        #Creating matrix \\Lambda_i\n",
        "        lam[j+1:, j] = -gamma\n",
        "        \n",
        "        #Acting with \\Lambda_i on A to get U\n",
        "        u = lam @ u\n",
        "        \n",
        "        #Creating matrix \\Lambda_i^{-1}\n",
        "        lam[j+1:, j] = gamma\n",
        "            \n",
        "        #Multiplying L and \\Lambda_i^{-1} o get new L\n",
        "        L = L @ lam\n",
        "    return L, u"
      ],
      "execution_count": 0,
      "outputs": []
    },
    {
      "cell_type": "code",
      "metadata": {
        "id": "NMn9Q5BAdt9Y",
        "colab_type": "code",
        "colab": {}
      },
      "source": [
        "# Tweak the printing of floating-point numbers, for clarity\n",
        "np.set_printoptions(precision=3)"
      ],
      "execution_count": 0,
      "outputs": []
    },
    {
      "cell_type": "code",
      "metadata": {
        "id": "HOd4ByVudt9d",
        "colab_type": "code",
        "outputId": "f419c1d2-2941-4262-916f-548be717aa70",
        "colab": {
          "base_uri": "https://localhost:8080/",
          "height": 357
        }
      },
      "source": [
        "L, u = diy_lu(a)\n",
        "\n",
        "print(L, \"\\n\")\n",
        "print(u, \"\\n\")\n",
        "\n",
        "# Quick sanity check: L times U must equal the original matrix, up to floating-point errors.\n",
        "print(L@u - a)"
      ],
      "execution_count": 6,
      "outputs": [
        {
          "output_type": "stream",
          "text": [
            "[[1.    0.    0.    0.    0.    0.   ]\n",
            " [1.    1.    0.    0.    0.    0.   ]\n",
            " [1.    1.455 1.    0.    0.    0.   ]\n",
            " [1.    1.714 1.742 1.    0.    0.   ]\n",
            " [1.    1.882 2.276 2.039 1.    0.   ]\n",
            " [1.    2.    2.671 2.944 2.354 1.   ]] \n",
            "\n",
            "[[ 3.000e+00  3.000e+00  3.000e+00  3.000e+00  3.000e+00  3.000e+00]\n",
            " [ 0.000e+00 -1.125e+00 -1.636e+00 -1.929e+00 -2.118e+00 -2.250e+00]\n",
            " [ 0.000e+00  0.000e+00  2.625e-01  4.574e-01  5.975e-01  7.013e-01]\n",
            " [ 0.000e+00  2.220e-16  0.000e+00 -2.197e-02 -4.480e-02 -6.469e-02]\n",
            " [ 0.000e+00 -4.528e-16  0.000e+00  6.939e-18  8.080e-04  1.902e-03]\n",
            " [ 0.000e+00  4.123e-16  0.000e+00 -1.634e-17  0.000e+00 -1.585e-05]] \n",
            "\n",
            "[[ 0.000e+00  0.000e+00  0.000e+00  0.000e+00  0.000e+00  0.000e+00]\n",
            " [ 0.000e+00  0.000e+00  0.000e+00  0.000e+00  0.000e+00  0.000e+00]\n",
            " [ 0.000e+00  0.000e+00 -1.110e-16  1.110e-16  1.110e-16 -5.551e-17]\n",
            " [ 0.000e+00  0.000e+00  3.331e-16 -2.220e-16 -5.551e-17  0.000e+00]\n",
            " [ 0.000e+00  0.000e+00  0.000e+00 -1.110e-16 -1.665e-16  0.000e+00]\n",
            " [ 0.000e+00  0.000e+00 -1.110e-16 -2.776e-16  1.110e-16  1.110e-16]]\n"
          ],
          "name": "stdout"
        }
      ]
    },
    {
      "cell_type": "markdown",
      "metadata": {
        "id": "NTSJwrefdt9i",
        "colab_type": "text"
      },
      "source": [
        "# II. The need for pivoting"
      ]
    },
    {
      "cell_type": "markdown",
      "metadata": {
        "id": "n15ZHln0dt9k",
        "colab_type": "text"
      },
      "source": [
        "Let's tweak the matrix a little bit, we only change a single element:"
      ]
    },
    {
      "cell_type": "code",
      "metadata": {
        "id": "secmnuZYdt9l",
        "colab_type": "code",
        "colab": {}
      },
      "source": [
        "a1 = a.copy()\n",
        "a1[1, 1] = 3"
      ],
      "execution_count": 0,
      "outputs": []
    },
    {
      "cell_type": "markdown",
      "metadata": {
        "id": "9RLHqGcpdt9r",
        "colab_type": "text"
      },
      "source": [
        "Resulting matrix still has full rank, but the naive LU routine breaks down."
      ]
    },
    {
      "cell_type": "code",
      "metadata": {
        "id": "cO97KEA6dt9t",
        "colab_type": "code",
        "outputId": "48b475cd-c9da-4d1f-8e49-441517d80a98",
        "colab": {
          "base_uri": "https://localhost:8080/",
          "height": 34
        }
      },
      "source": [
        "np.linalg.matrix_rank(a1)"
      ],
      "execution_count": 8,
      "outputs": [
        {
          "output_type": "execute_result",
          "data": {
            "text/plain": [
              "6"
            ]
          },
          "metadata": {
            "tags": []
          },
          "execution_count": 8
        }
      ]
    },
    {
      "cell_type": "code",
      "metadata": {
        "scrolled": false,
        "id": "LZup-PM3dt9y",
        "colab_type": "code",
        "outputId": "35a37ad4-558b-4b62-be3c-b120a245ea55",
        "colab": {
          "base_uri": "https://localhost:8080/",
          "height": 292
        }
      },
      "source": [
        "l, u = diy_lu(a1)\n",
        "\n",
        "print(l, u)"
      ],
      "execution_count": 9,
      "outputs": [
        {
          "output_type": "stream",
          "text": [
            "[[nan nan nan nan nan nan]\n",
            " [nan nan nan nan nan nan]\n",
            " [nan nan nan nan nan nan]\n",
            " [nan nan nan nan nan nan]\n",
            " [nan nan nan nan nan nan]\n",
            " [nan nan nan nan nan nan]] [[nan nan nan nan nan nan]\n",
            " [nan nan nan nan nan nan]\n",
            " [nan nan nan nan nan nan]\n",
            " [nan nan nan nan nan nan]\n",
            " [nan nan nan nan nan nan]\n",
            " [nan nan nan nan nan nan]]\n"
          ],
          "name": "stdout"
        },
        {
          "output_type": "stream",
          "text": [
            "/usr/local/lib/python3.6/dist-packages/ipykernel_launcher.py:18: RuntimeWarning: divide by zero encountered in true_divide\n",
            "/usr/local/lib/python3.6/dist-packages/ipykernel_launcher.py:24: RuntimeWarning: invalid value encountered in matmul\n",
            "/usr/local/lib/python3.6/dist-packages/ipykernel_launcher.py:30: RuntimeWarning: invalid value encountered in matmul\n",
            "/usr/local/lib/python3.6/dist-packages/ipykernel_launcher.py:18: RuntimeWarning: invalid value encountered in true_divide\n"
          ],
          "name": "stderr"
        }
      ]
    },
    {
      "cell_type": "markdown",
      "metadata": {
        "id": "8BPBmmD8dt94",
        "colab_type": "text"
      },
      "source": [
        ""
      ]
    },
    {
      "cell_type": "markdown",
      "metadata": {
        "id": "nM4330ujdt95",
        "colab_type": "text"
      },
      "source": [
        "### Test II.1\n",
        "\n",
        "For a naive LU decomposition to work, all leading minors of a matrix should be non-zero. Check if this requirement is satisfied for the two matrices `a` and `a1`."
      ]
    },
    {
      "cell_type": "code",
      "metadata": {
        "id": "sJ4-eqNadt97",
        "colab_type": "code",
        "colab": {
          "base_uri": "https://localhost:8080/",
          "height": 221
        },
        "outputId": "e4efa393-0587-4072-fb17-8cfe47bfcb2f"
      },
      "source": [
        "tmp = []\n",
        "print(a1)\n",
        "for i in range(len(a1)):\n",
        "  tmp = a1\n",
        "  tmp = a1[:i, :i]\n",
        "  det = np.linalg.det(tmp)\n",
        "  print(det)"
      ],
      "execution_count": 20,
      "outputs": [
        {
          "output_type": "stream",
          "text": [
            "[[3.    3.    3.    3.    3.    3.   ]\n",
            " [3.    3.    1.364 1.071 0.882 0.75 ]\n",
            " [3.    1.364 0.882 0.652 0.517 0.429]\n",
            " [3.    1.071 0.652 0.469 0.366 0.3  ]\n",
            " [3.    0.882 0.517 0.366 0.283 0.231]\n",
            " [3.    0.75  0.429 0.3   0.231 0.188]]\n",
            "1.0\n",
            "3.0000000000000004\n",
            "0.0\n",
            "-8.03305785123967\n",
            "-0.4935101061624751\n",
            "0.0009030145201488282\n"
          ],
          "name": "stdout"
        }
      ]
    },
    {
      "cell_type": "code",
      "metadata": {
        "id": "u7BZ-ukkFbFF",
        "colab_type": "code",
        "colab": {
          "base_uri": "https://localhost:8080/",
          "height": 221
        },
        "outputId": "4fd42d6d-b64c-4873-d9a1-3891ae4ce9ff"
      },
      "source": [
        "tmp = []\n",
        "print(a)\n",
        "for i in range(len(a)):\n",
        "  tmp = a\n",
        "  tmp = a[:i, :i]\n",
        "  det = np.linalg.det(tmp)\n",
        "  print(det)"
      ],
      "execution_count": 21,
      "outputs": [
        {
          "output_type": "stream",
          "text": [
            "[[3.    3.    3.    3.    3.    3.   ]\n",
            " [3.    1.875 1.364 1.071 0.882 0.75 ]\n",
            " [3.    1.364 0.882 0.652 0.517 0.429]\n",
            " [3.    1.071 0.652 0.469 0.366 0.3  ]\n",
            " [3.    0.882 0.517 0.366 0.283 0.231]\n",
            " [3.    0.75  0.429 0.3   0.231 0.188]]\n",
            "1.0\n",
            "3.0000000000000004\n",
            "-3.375\n",
            "-0.8859990277102598\n",
            "0.019467001032005795\n",
            "1.5728974209748546e-05\n"
          ],
          "name": "stdout"
        }
      ]
    },
    {
      "cell_type": "code",
      "metadata": {
        "id": "sZ04RL_rDvBG",
        "colab_type": "code",
        "colab": {
          "base_uri": "https://localhost:8080/",
          "height": 119
        },
        "outputId": "61d55295-934d-4f4b-b01b-dcb1e1c52e06"
      },
      "source": [
        "tmp = []\n",
        "for i in range(len(a)):\n",
        "  tmp = a\n",
        "  tmp = np.delete(tmp, i, axis = 1)\n",
        "  tmp = np.delete(tmp, i, axis = 0)\n",
        "  det = np.linalg.det(tmp)\n",
        "  print(det)"
      ],
      "execution_count": 15,
      "outputs": [
        {
          "output_type": "stream",
          "text": [
            "7.419551442489563e-14\n",
            "2.0829405883640025e-08\n",
            "4.258627552656732e-06\n",
            "5.2968424471653104e-05\n",
            "8.688639032039868e-05\n",
            "1.5728974209748546e-05\n"
          ],
          "name": "stdout"
        }
      ]
    },
    {
      "cell_type": "markdown",
      "metadata": {
        "id": "gIutN2E8dt-B",
        "colab_type": "text"
      },
      "source": [
        "### Test II.2\n",
        "\n",
        "Modify the `diy_lu` routine to implement column pivoting. Keep track of pivots, you can either construct a permutation matrix, or a swap array (your choice).\n",
        "\n",
        "Implement a function to reconstruct the original matrix from a decompositon. Test your routines on the matrices `a` and `a1`."
      ]
    },
    {
      "cell_type": "code",
      "metadata": {
        "id": "ESznC5nIdt-D",
        "colab_type": "code",
        "colab": {}
      },
      "source": [
        "def diy_lu_pivot(a):\n",
        "    \n",
        "    n = len(a)\n",
        "    c = a\n",
        "    p = np.eye(n)\n",
        "    for i in range(n):\n",
        "      pivotVal = 0\n",
        "      pivot = -1\n",
        "      for row in range(i, n):\n",
        "        if math.fabs(c[row][i]) > pivotVal:\n",
        "          pivotVal = math.fabs(c[row][i])\n",
        "          pivot = row\n",
        "          \n",
        "      if pivotVal != 0:\n",
        "        p[i], p[pivot] = p[pivot], p[i]\n",
        "        c[i], c[pivot] = c[pivot], c[i]\n",
        "        for j in range(i+1, n):\n",
        "          c[j][i] /= c[i][i]\n",
        "          for k in range(i+1, n):\n",
        "            c[j][k] -= c[j][i]*c[i][k]  \n",
        "    return c, p"
      ],
      "execution_count": 0,
      "outputs": []
    },
    {
      "cell_type": "code",
      "metadata": {
        "id": "TYmVZat1dt-J",
        "colab_type": "code",
        "colab": {}
      },
      "source": [
        "import math\n",
        "L1, u1 = diy_lu_pivot(a1)"
      ],
      "execution_count": 0,
      "outputs": []
    },
    {
      "cell_type": "code",
      "metadata": {
        "id": "MJyZ214pMGpt",
        "colab_type": "code",
        "colab": {
          "base_uri": "https://localhost:8080/",
          "height": 221
        },
        "outputId": "60e5c3dd-00d2-431c-bf05-7e37f4e9be70"
      },
      "source": [
        "L1"
      ],
      "execution_count": 34,
      "outputs": [
        {
          "output_type": "execute_result",
          "data": {
            "text/plain": [
              "array([[ 3.000e+00,  3.000e+00,  3.000e+00,  3.000e+00,  3.000e+00,\n",
              "         3.000e+00],\n",
              "       [ 1.000e+00, -2.250e+00, -2.571e+00, -2.700e+00, -2.769e+00,\n",
              "        -2.812e+00],\n",
              "       [ 1.000e+00,  7.273e-01, -2.475e-01, -3.842e-01, -4.688e-01,\n",
              "        -5.260e-01],\n",
              "       [ 1.000e+00,  8.571e-01,  5.807e-01,  6.152e-03,  1.172e-02,\n",
              "         1.617e-02],\n",
              "       [ 1.000e+00,  9.412e-01,  2.529e-01,  6.797e-01, -7.044e-05,\n",
              "        -1.585e-04],\n",
              "       [ 1.000e+00,  1.000e+00, -0.000e+00,  0.000e+00, -0.000e+00,\n",
              "         0.000e+00]])"
            ]
          },
          "metadata": {
            "tags": []
          },
          "execution_count": 34
        }
      ]
    },
    {
      "cell_type": "markdown",
      "metadata": {
        "id": "_v0pZ5I9MULW",
        "colab_type": "text"
      },
      "source": [
        ""
      ]
    },
    {
      "cell_type": "markdown",
      "metadata": {
        "id": "NY3MGxYudt-Q",
        "colab_type": "text"
      },
      "source": [
        "Sum all elements in matrix `L1` and `u1` separately (for Google Form)."
      ]
    },
    {
      "cell_type": "code",
      "metadata": {
        "id": "lqFRbGBPdt-R",
        "colab_type": "code",
        "colab": {}
      },
      "source": [
        "# ... ENTER YOUR CODE HERE ..."
      ],
      "execution_count": 0,
      "outputs": []
    }
  ]
}