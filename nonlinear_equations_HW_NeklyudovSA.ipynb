{
 "cells": [
  {
   "cell_type": "markdown",
   "metadata": {
    "colab_type": "text",
    "id": "view-in-github"
   },
   "source": [
    "<a href=\"https://colab.research.google.com/github/neklyud/programming_miem/blob/master/nonlinear_equations_HW.ipynb\" target=\"_parent\"><img src=\"https://colab.research.google.com/assets/colab-badge.svg\" alt=\"Open In Colab\"/></a>"
   ]
  },
  {
   "cell_type": "markdown",
   "metadata": {
    "colab_type": "text",
    "id": "ulFQ3s3A0yRA"
   },
   "source": [
    "# 1. Fixed-point iteration"
   ]
  },
  {
   "cell_type": "markdown",
   "metadata": {
    "colab_type": "text",
    "id": "H1lLTthz0yRB"
   },
   "source": [
    "Rewrite $f(x) = 0$ as $x = \\phi(x)$ so that\n",
    "$$f(x_*) = 0 \\Leftrightarrow x_* = \\phi(x_*),$$\n",
    "where $x_*$ is the root of the first equation.\n",
    "\n",
    "The simplest way of costructing $\\phi(x)$ is\n",
    "$$\\phi(x) = x - \\alpha f(x).$$"
   ]
  },
  {
   "cell_type": "markdown",
   "metadata": {
    "colab_type": "text",
    "id": "sT-Ph15v0yRC"
   },
   "source": [
    "The iterative process\n",
    "$$x_{n+1} = \\phi(x_{n})$$\n",
    "converges to the root $x_*$ if $\\lim\\limits_{n \\rightarrow} x_n = x_*$."
   ]
  },
  {
   "cell_type": "markdown",
   "metadata": {
    "colab_type": "text",
    "id": "ropGJWcK0yRC"
   },
   "source": [
    "Consider the following equation:\n",
    "\n",
    "$$\n",
    "\\sqrt{x} = \\cos{x}\n",
    "$$\n",
    "\n",
    "Plot the left-hand side and right-hand side of this equation, and localize the root graphically. Estimate the location of the root by visual inspection of the plot.\n",
    "\n",
    "Write a function which finds the solution using fixed-point iteration up to a predefined accuracy $\\epsilon$ in the form\n",
    "\n",
    "$$\n",
    "\\phi(x) = x - \\alpha f(x),\n",
    "$$\n",
    "\n",
    "where $\\alpha$ is the free parameter. Check the dependence of the number of iterations required for a given $\\epsilon$ on $\\alpha$ (visualize this dependence for three different values of $epsilon$). Compare your results to an expectation that the optimal value of $\\alpha$ is given by \n",
    "\n",
    "$$\n",
    "\\alpha = \\frac{2}{m + M}\n",
    "$$\n",
    "\n",
    "where $0 < m < |f'(x)| < M$ over the localization interval (highlight it on the plot)."
   ]
  },
  {
   "cell_type": "code",
   "execution_count": null,
   "metadata": {
    "colab": {
     "base_uri": "https://localhost:8080/",
     "height": 34
    },
    "colab_type": "code",
    "id": "AdPf0sfS1cXQ",
    "outputId": "4949255f-80de-40dd-80a1-1d95dac53c80"
   },
   "outputs": [],
   "source": [
    "import numpy as np\n",
    "%matplotlib inline\n",
    "\n",
    "import matplotlib.pyplot as plt\n",
    "plt.xkcd()"
   ]
  },
  {
   "cell_type": "code",
   "execution_count": null,
   "metadata": {
    "colab": {},
    "colab_type": "code",
    "id": "tlLbLjDt1YuB"
   },
   "outputs": [],
   "source": [
    "def f(x):\n",
    "  return np.sqrt(x) - np.cos(x)\n",
    "\n",
    "def fprime(x, sign = 1):\n",
    "  return sign*(0.5/np.sqrt(x) + np.sin(x))\n",
    "\n",
    "def fLeft(x):\n",
    "  return np.sqrt(x)\n",
    "\n",
    "def fLeftPrime(x):\n",
    "  return 0.5/np.sqrt(x)\n",
    "\n",
    "def fRight(x):\n",
    "  return np.cos(x)\n",
    "\n",
    "def fRightPrime(x):\n",
    "  return -np.sin(x)\n"
   ]
  },
  {
   "cell_type": "code",
   "execution_count": null,
   "metadata": {
    "colab": {
     "base_uri": "https://localhost:8080/",
     "height": 338
    },
    "colab_type": "code",
    "id": "U9iijzzb2VeK",
    "outputId": "f8e75d41-4214-45d4-e3e3-372832b7e3c3"
   },
   "outputs": [],
   "source": [
    "x = np.linspace(0, 4)\n",
    "plt.axvline(0, ls='--', lw=1); plt.axhline(0, ls='--', lw=1)\n",
    "plt.plot(x, f(x), label='f(x)')\n",
    "plt.legend()\n",
    "plt.plot(x, fLeft(x), label='fLeft(x)')\n",
    "plt.legend()\n",
    "plt.plot(x, fRight(x), label='fRiht(x)')\n",
    "plt.legend()\n",
    "plt.show()"
   ]
  },
  {
   "cell_type": "markdown",
   "metadata": {
    "colab_type": "text",
    "id": "4RA-mOcDLedd"
   },
   "source": [
    "# Требуется монотонный интервал на f(x)"
   ]
  },
  {
   "cell_type": "code",
   "execution_count": null,
   "metadata": {
    "colab": {
     "base_uri": "https://localhost:8080/",
     "height": 282
    },
    "colab_type": "code",
    "id": "lLZe2Pj3HWoG",
    "outputId": "8bb0b3af-daa7-44c7-f4f3-7862f9296fe7"
   },
   "outputs": [],
   "source": [
    "xpr = np.linspace(0.1, 5)\n",
    "plt.axvline(0, ls='--', lw=1); plt.axhline(0, ls='--', lw=1)\n",
    "plt.plot(xpr, fprime(xpr), label = \"f prime\")\n",
    "plt.legend()\n",
    "plt.show()"
   ]
  },
  {
   "cell_type": "markdown",
   "metadata": {
    "colab_type": "text",
    "id": "sr1APWRtP1fu"
   },
   "source": [
    "# На интервале (0, 3.5) производная больше 0, следовательно константа a должна быть положительна"
   ]
  },
  {
   "cell_type": "code",
   "execution_count": null,
   "metadata": {
    "colab": {
     "base_uri": "https://localhost:8080/",
     "height": 35
    },
    "colab_type": "code",
    "id": "CXzi_khxRo-C",
    "outputId": "5be4708e-3304-4efb-b42b-73b82a824685"
   },
   "outputs": [],
   "source": [
    "#Находим локальные минимум и маскимум производных\n",
    "from scipy.signal import argrelextrema\n",
    "ext_max = argrelextrema(fprime(xpr), np.greater_equal,order=1)[0]\n",
    "ext_min = argrelextrema(fprime(xpr), np.less,order=1)[0]\n",
    "print(ext_max, ext_min)"
   ]
  },
  {
   "cell_type": "code",
   "execution_count": null,
   "metadata": {
    "colab": {
     "base_uri": "https://localhost:8080/",
     "height": 35
    },
    "colab_type": "code",
    "id": "jqkkJFv4UaTb",
    "outputId": "478bd0c3-fd80-4de7-83df-72278653822d"
   },
   "outputs": [],
   "source": [
    "print(xpr[ext_max], xpr[ext_min])"
   ]
  },
  {
   "cell_type": "markdown",
   "metadata": {
    "colab_type": "text",
    "id": "DQqBKY7UUwyn"
   },
   "source": [
    "# Исключим точки 0.1 и 4.7. m = 0.4 M = 1.4"
   ]
  },
  {
   "cell_type": "code",
   "execution_count": null,
   "metadata": {
    "colab": {
     "base_uri": "https://localhost:8080/",
     "height": 300
    },
    "colab_type": "code",
    "id": "0ys5m94PI6oO",
    "outputId": "b7d31393-f073-4f55-e4b5-ce144ce5e190"
   },
   "outputs": [],
   "source": [
    "m = 0.4\n",
    "M = 1.4\n",
    "x_loc = np.where((x >= m) & (x <= M))[0].tolist()\n",
    "plt.plot(x, f(x))\n",
    "plt.axvline(0, ls='--', lw=1); plt.axhline(0, ls='--', lw=1)\n",
    "plt.plot(x[x_loc], f(x[x_loc]), 'ro')"
   ]
  },
  {
   "cell_type": "code",
   "execution_count": null,
   "metadata": {
    "colab": {},
    "colab_type": "code",
    "id": "fYWpMiSqGqYP"
   },
   "outputs": [],
   "source": [
    "x_loc = x[x_loc]\n"
   ]
  },
  {
   "cell_type": "code",
   "execution_count": null,
   "metadata": {
    "colab": {
     "base_uri": "https://localhost:8080/",
     "height": 35
    },
    "colab_type": "code",
    "id": "RQeajDIa0yRD",
    "outputId": "a8066893-cfb7-4951-9494-86ae3425dae8"
   },
   "outputs": [],
   "source": [
    "def fixedPointIteration(m, M, a, eps):\n",
    "  x0 = m\n",
    "  xn = M\n",
    "  it = 0\n",
    "  a = a/abs(a)*a\n",
    "  while 1:\n",
    "    xn = x0 - a*f(x0)\n",
    "    if abs(xn - x0) < eps:\n",
    "      return xn, f(xn), it\n",
    "    x0 = xn\n",
    "    it += 1\n",
    "  return xn, f(xn), it\n",
    "    \n",
    "print(fixedPointIteration(0.4, 1.4, 0.81, 1e-5))\n"
   ]
  },
  {
   "cell_type": "code",
   "execution_count": null,
   "metadata": {
    "colab": {},
    "colab_type": "code",
    "id": "X5tacoJ8Gwfe"
   },
   "outputs": [],
   "source": [
    "def countIter(eps):\n",
    "  full = []\n",
    "  for i in x_loc:\n",
    "    tup = fixedPointIteration(m, M, i , eps)\n",
    "    full.append(tup[2])\n",
    "  return full"
   ]
  },
  {
   "cell_type": "code",
   "execution_count": null,
   "metadata": {
    "colab": {},
    "colab_type": "code",
    "id": "7k5MkRUcW_98"
   },
   "outputs": [],
   "source": [
    "full1 = countIter(10e-5)\n",
    "full2 = countIter(10e-4)\n",
    "full3 = countIter(10e-3)"
   ]
  },
  {
   "cell_type": "code",
   "execution_count": null,
   "metadata": {
    "colab": {
     "base_uri": "https://localhost:8080/",
     "height": 300
    },
    "colab_type": "code",
    "id": "YB-c9LFxJ7dP",
    "outputId": "f76a86fd-f277-4a0a-e25a-3acacf649dc0"
   },
   "outputs": [],
   "source": [
    "xx = [x_loc[i] for i in range(0, len(full1))]\n",
    "yy = full1\n",
    "plt.plot(xx,yy)\n"
   ]
  },
  {
   "cell_type": "code",
   "execution_count": null,
   "metadata": {
    "colab": {
     "base_uri": "https://localhost:8080/",
     "height": 300
    },
    "colab_type": "code",
    "id": "2yLbp6-HXP6J",
    "outputId": "b2a2685b-488f-45fb-82f1-f85ab836c149"
   },
   "outputs": [],
   "source": [
    "yy = full2\n",
    "plt.plot(xx,yy)"
   ]
  },
  {
   "cell_type": "code",
   "execution_count": null,
   "metadata": {
    "colab": {
     "base_uri": "https://localhost:8080/",
     "height": 300
    },
    "colab_type": "code",
    "id": "0IP36YT7XSug",
    "outputId": "c8a5ee58-27ea-4f72-87c8-3ed484738e98"
   },
   "outputs": [],
   "source": [
    "yy = full3\n",
    "plt.plot(xx,yy)"
   ]
  },
  {
   "cell_type": "code",
   "execution_count": null,
   "metadata": {
    "colab": {
     "base_uri": "https://localhost:8080/",
     "height": 35
    },
    "colab_type": "code",
    "id": "4MDc48y-LSC2",
    "outputId": "cc819469-41db-43a5-e064-9b6c581bfd1d"
   },
   "outputs": [],
   "source": [
    "from scipy.optimize import minimize\n",
    "\n",
    "opt_min = minimize(fprime, 0.5, args=1, bounds=[(0, 1)], method='SLSQP')\n",
    "opt_max = minimize(fprime, 0.5, args=-1, bounds=[(0, 1)], method='SLSQP',)\n",
    "\n",
    "a = 2 / (opt_min.__getitem__('fun') - opt_max.__getitem__('fun'))\n",
    "print(a)"
   ]
  },
  {
   "cell_type": "markdown",
   "metadata": {
    "colab_type": "text",
    "id": "ZY80FhueXbl-"
   },
   "source": [
    "# Вывод - минимальное количество итераций не зависит от выбранного a"
   ]
  },
  {
   "cell_type": "markdown",
   "metadata": {
    "colab_type": "text",
    "id": "qesNUhVH0yRF"
   },
   "source": [
    "Find the solution (and number of iterations) of the equation above using fixed-point iteration for $\\alpha = 1$ and $\\epsilon = 0.001$ (for Google form)."
   ]
  },
  {
   "cell_type": "code",
   "execution_count": null,
   "metadata": {
    "colab": {
     "base_uri": "https://localhost:8080/",
     "height": 35
    },
    "colab_type": "code",
    "id": "emO3omVE0yRG",
    "outputId": "925809a4-fc32-4b26-c144-67b463c541e0"
   },
   "outputs": [],
   "source": [
    "print(fixedPointIteration(m, M, 1, 0.001))\n"
   ]
  },
  {
   "cell_type": "markdown",
   "metadata": {
    "colab_type": "text",
    "id": "u9MXc3Mn0yRH"
   },
   "source": [
    "# 2. Inverse quadratic interpolation"
   ]
  },
  {
   "cell_type": "markdown",
   "metadata": {
    "colab_type": "text",
    "id": "-KM5tsxl0yRI"
   },
   "source": [
    "Suppose we have three different consequitive iterates $x_0$, $x_1$ and $x_2$ and a function $f(x)$: $y_i = f(x_i)$.\n",
    "\n",
    "Construct a unique parabola which passes through $(x_i, y_i)$. Take as a next approximation, $x_3$, the root of this parabola.\n",
    "\n",
    "In order not to solve another nonlinear equation on each step, use an inverse interpolation: construct a second order polynomial $Q(y)$ such that $Q(y_i) = x_i$. Then $x_3 = Q(0)$."
   ]
  },
  {
   "cell_type": "markdown",
   "metadata": {
    "colab_type": "text",
    "id": "GDJq8rjJ0yRI"
   },
   "source": [
    "\n",
    "\n",
    "```\n",
    "# This is formatted as code\n",
    "```\n",
    "\n",
    "Now, write a function which finds the solution using inverse quadratic interpolation up to a predefined accuracy $\\epsilon$."
   ]
  },
  {
   "cell_type": "code",
   "execution_count": null,
   "metadata": {
    "colab": {},
    "colab_type": "code",
    "id": "uTf9szUW0yRJ"
   },
   "outputs": [],
   "source": [
    "def inv_quad_interpolation(func, point_0, point_1, point_2, eps):\n",
    "  xn3 = 0\n",
    "  xn2 = point_2\n",
    "  xn1 = point_1\n",
    "  xn0 = point_0\n",
    "  while 1:\n",
    "    xn3 = func(xn1)*func(xn0)/((func(xn2) - func(xn1))*(func(xn2) - func(xn0)))*xn2 \n",
    "    xn3 = xn3 + func(xn2)*func(xn0)/((func(xn1) - func(xn2))*(func(xn1) - func(xn0)))*xn1\n",
    "    xn3 = xn3 +func(xn1)*func(xn2)/((func(xn0) - func(xn1))*(func(xn0) - func(xn2)))*xn0\n",
    "    temp = xn2\n",
    "    xn0 = xn1\n",
    "    xn1 = xn2\n",
    "    xn2 = xn3\n",
    "    if abs(xn2 - xn1) < eps:\n",
    "      break\n",
    "  return xn0, xn1, xn2"
   ]
  },
  {
   "cell_type": "code",
   "execution_count": null,
   "metadata": {
    "colab": {},
    "colab_type": "code",
    "id": "jmH-Cukdecsx"
   },
   "outputs": [],
   "source": []
  },
  {
   "cell_type": "markdown",
   "metadata": {
    "colab_type": "text",
    "id": "djcEuWPs0yRL"
   },
   "source": [
    "Now implement your function to solve equation\n",
    "$$x = \\mbox{ctg}(x)$$\n",
    "in the interval $x \\in (0.5, 1)$ with $x_0 = 0.6$, $x_1 = 0.8$ and $x_2 = 1$. What is the solution for $\\epsilon = 0.001$? How many iterations did it take to find it? (You will need the answers for Google Form)."
   ]
  },
  {
   "cell_type": "code",
   "execution_count": null,
   "metadata": {
    "colab": {},
    "colab_type": "code",
    "id": "rjE0miiJjV4Z"
   },
   "outputs": [],
   "source": [
    "def f(x):\n",
    "  return 1/np.tan(x)"
   ]
  },
  {
   "cell_type": "code",
   "execution_count": null,
   "metadata": {
    "colab": {},
    "colab_type": "code",
    "id": "qz0W828meC6f"
   },
   "outputs": [],
   "source": [
    "x = np.linspace(0.5,2, endpoint = False)\n",
    "#func = dict(zip(x,f))\n",
    "pnts = inv_quad_interpolation(f, 0.6, 0.8, 0.99, 0.001)"
   ]
  },
  {
   "cell_type": "code",
   "execution_count": null,
   "metadata": {
    "colab": {
     "base_uri": "https://localhost:8080/",
     "height": 35
    },
    "colab_type": "code",
    "id": "NDaOZyKnjhYc",
    "outputId": "f1072f41-e458-4215-c3fe-2535c002a989"
   },
   "outputs": [],
   "source": [
    "pnts"
   ]
  },
  {
   "cell_type": "code",
   "execution_count": null,
   "metadata": {
    "colab": {
     "base_uri": "https://localhost:8080/",
     "height": 300
    },
    "colab_type": "code",
    "id": "tJoO-SCyjj_Y",
    "outputId": "cff8b738-a030-4b56-a702-431c7ffe7be9"
   },
   "outputs": [],
   "source": [
    "xx = x\n",
    "yy = f(xx)\n",
    "plt.plot(xx,yy)\n",
    "plt.axvline(0, ls='--', lw=1); plt.axhline(0, ls='--', lw=1)\n",
    "plt.plot(pnts[0],f(pnts[0]), \"ro\")"
   ]
  },
  {
   "cell_type": "markdown",
   "metadata": {
    "colab_type": "text",
    "id": "Y68vuBIp0yRL"
   },
   "source": [
    "# 3. Newton-Raphson method"
   ]
  },
  {
   "cell_type": "markdown",
   "metadata": {
    "colab_type": "text",
    "id": "7U1RmPpT0yRM"
   },
   "source": [
    "Implement the Newton-Raphson method to solve equation $z^3 - 1 = 0$ for complex $z$. Visualize and describe the convergence domain."
   ]
  },
  {
   "cell_type": "code",
   "execution_count": null,
   "metadata": {
    "colab": {},
    "colab_type": "code",
    "id": "EjhSYajl0yRM"
   },
   "outputs": [],
   "source": [
    "import numpy as np\n",
    "%matplotlib inline\n",
    "\n",
    "import matplotlib.pyplot as plt\n",
    "def f(x):\n",
    "  return x**3 - 1\n",
    "\n",
    "def fprime(x):\n",
    "  return 3*x**2"
   ]
  },
  {
   "cell_type": "code",
   "execution_count": null,
   "metadata": {
    "colab": {
     "base_uri": "https://localhost:8080/",
     "height": 269
    },
    "colab_type": "code",
    "id": "CQYhlGFC93Ev",
    "outputId": "26a9cd20-8c0c-4392-9a3d-293b18b03ea2"
   },
   "outputs": [],
   "source": [
    "\n",
    "\n",
    "x = np.linspace(-2, 5, endpoint = False)\n",
    "y = f(x)\n",
    "fig, ax = plt.subplots()\n",
    "plt.plot(x,y)\n",
    "ypr = fprime(x)\n",
    "plt.plot(x,ypr)\n",
    "plt.show()"
   ]
  },
  {
   "cell_type": "code",
   "execution_count": null,
   "metadata": {
    "colab": {},
    "colab_type": "code",
    "id": "em1kWhOb_vs7"
   },
   "outputs": [],
   "source": [
    "def newton_raphson(x0):\n",
    "  x = []\n",
    "  i = 0\n",
    "  eps = 1e-5\n",
    "#  x0 = complex(2,-1)\n",
    "  x.append(x0)\n",
    "  while True:\n",
    "    x.append(-f(x[i])/fprime(x[i])+x[i])\n",
    "    #print(x[i])\n",
    "    i = i + 1\n",
    "    if abs(x[i] - x[i-1]) < eps:\n",
    "      break\n",
    "  return x[i], f(x[i]), i"
   ]
  },
  {
   "cell_type": "code",
   "execution_count": null,
   "metadata": {
    "colab": {
     "base_uri": "https://localhost:8080/",
     "height": 408
    },
    "colab_type": "code",
    "id": "_Mxoy0ry_0Sn",
    "outputId": "d189016b-d350-46fe-bbd5-8d30a4f405b2"
   },
   "outputs": [],
   "source": [
    "v1 = newton_raphson(2)\n",
    "v2 = newton_raphson(complex(-1, -1))\n",
    "v3 = newton_raphson(complex(-1, 1))\n",
    "\n",
    "print(v1)\n",
    "print(v2)\n",
    "print(v3)"
   ]
  },
  {
   "cell_type": "code",
   "execution_count": null,
   "metadata": {
    "colab": {
     "base_uri": "https://localhost:8080/",
     "height": 286
    },
    "colab_type": "code",
    "id": "ET75I4kaAX4o",
    "outputId": "fed2d508-0186-42ee-d205-07424463394e"
   },
   "outputs": [],
   "source": [
    "x1 = v1[0]\n",
    "y1 = 0\n",
    "\n",
    "x2 = v2[0].real\n",
    "y2 = v2[0].imag\n",
    "\n",
    "x3 = v3[0].real\n",
    "y3 = v3[0].imag\n",
    "\n",
    "x = 2 # первое решение получается при приближении x = 2\n",
    "#plt.axvline(0.95, ls='--', lw=1); plt.axhline(0, ls='--', lw=1)\n",
    "plt.minorticks_on()\n",
    "plt.grid(which='minor', \n",
    "        color = 'k', \n",
    "        linestyle = ':')\n",
    "plt.scatter(x, 0, color='red', s=40, marker='*')\n",
    "plt.scatter(x1, y1, color='red', s=40, marker='o')\n",
    "\n",
    "plt.scatter(2, -1, color='blue', s=40, marker='*')\n",
    "plt.scatter(x2, y2, color='blue', s=40, marker='o')\n",
    "\n",
    "plt.scatter(2, 1, color='green', s=40, marker='*')\n",
    "plt.scatter(x3, y3, color='green', s=40, marker='o')\n",
    "plt.grid()\n",
    "plt.show()"
   ]
  },
  {
   "cell_type": "code",
   "execution_count": null,
   "metadata": {
    "colab": {
     "base_uri": "https://localhost:8080/",
     "height": 293
    },
    "colab_type": "code",
    "id": "UP99fBMYDZbW",
    "outputId": "a569252b-ed9e-4624-8ce2-a4c72890c9ed"
   },
   "outputs": [],
   "source": [
    "plt.axhline(0, ls='--', lw=1)\n",
    "plt.scatter(x1, y1, color='red', s=40, marker='o')\n",
    "plt.scatter(x2, y2, color='blue', s=40, marker='o')\n",
    "plt.scatter(x3, y3, color='green', s=40, marker='o')\n",
    "plt.xlim(0.999,1.001)\n",
    "plt.ylim(-1.1e-17,1.1e-17)"
   ]
  },
  {
   "cell_type": "markdown",
   "metadata": {
    "colab_type": "text",
    "id": "7HPD0H410yRO"
   },
   "source": [
    "Hint: visualize the convergence domain as a scatter plot of coloured points (the colour of the point depends on the root it converged to)."
   ]
  }
 ],
 "metadata": {
  "colab": {
   "collapsed_sections": [],
   "include_colab_link": true,
   "name": "nonlinear equations HW.ipynb",
   "provenance": [],
   "toc_visible": true
  },
  "kernelspec": {
   "display_name": "Python 3",
   "language": "python",
   "name": "python3"
  },
  "language_info": {
   "codemirror_mode": {
    "name": "ipython",
    "version": 3
   },
   "file_extension": ".py",
   "mimetype": "text/x-python",
   "name": "python",
   "nbconvert_exporter": "python",
   "pygments_lexer": "ipython3",
   "version": "3.6.5"
  }
 },
 "nbformat": 4,
 "nbformat_minor": 1
}
