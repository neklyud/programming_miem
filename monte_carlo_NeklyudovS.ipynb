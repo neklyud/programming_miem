{
 "cells": [
  {
   "cell_type": "code",
   "execution_count": 1,
   "metadata": {
    "colab": {},
    "colab_type": "code",
    "id": "f4EjUZwnTInq"
   },
   "outputs": [],
   "source": [
    "import numpy as np\n",
    "\n",
    "M1_val = 400000\n",
    "M1_std = 500\n",
    "M2_val = 300000\n",
    "M2_std = 1000\n",
    "r_val = 3.2\n",
    "r_std = 0.01\n",
    "M1 = np.random.normal(M1_val, M1_std, 1000000)\n",
    "M2 = np.random.normal(M2_val, M2_std, 1000000)\n",
    "r = np.random.normal(r_val, r_std, 1000000)\n",
    "\n",
    "G = 6.67384*10**-11"
   ]
  },
  {
   "cell_type": "code",
   "execution_count": 2,
   "metadata": {
    "colab": {},
    "colab_type": "code",
    "id": "3OcmyCe6TMOT"
   },
   "outputs": [],
   "source": [
    "F = G*M1*M2/r**2"
   ]
  },
  {
   "cell_type": "code",
   "execution_count": 3,
   "metadata": {
    "colab": {
     "base_uri": "https://localhost:8080/",
     "height": 34
    },
    "colab_type": "code",
    "id": "yfzElnB664Yz",
    "outputId": "84e73c5e-4546-4a9c-e486-7611a111a8ef"
   },
   "outputs": [
    {
     "name": "stdout",
     "output_type": "stream",
     "text": [
      "0.00010149798333333336\n"
     ]
    }
   ],
   "source": [
    "#Посчитаем значение функции и стандартные отклонения M1*M2*G:\n",
    "import numpy as np\n",
    "M1M2G = M1_val*M2_val*G\n",
    "stdM1M2G = M1M2G*(np.power(M1_std/M1_val,2) + np.power(M2_std/M2_val,2))\n",
    "print(stdM1M2G)"
   ]
  },
  {
   "cell_type": "code",
   "execution_count": 4,
   "metadata": {
    "colab": {
     "base_uri": "https://localhost:8080/",
     "height": 34
    },
    "colab_type": "code",
    "id": "uCxLni-i7Y82",
    "outputId": "94460290-98be-4fcf-81b7-e8f4def382c3"
   },
   "outputs": [
    {
     "name": "stdout",
     "output_type": "stream",
     "text": [
      "0.064\n"
     ]
    }
   ],
   "source": [
    "#Посчитаем значение функции и стандартное отклонение r**2:\n",
    "rr =  np.power(3.2, 2)\n",
    "stdrr = abs(r_val**2*2*r_std/r_val)\n",
    "print(stdrr)"
   ]
  },
  {
   "cell_type": "code",
   "execution_count": 5,
   "metadata": {
    "colab": {
     "base_uri": "https://localhost:8080/",
     "height": 34
    },
    "colab_type": "code",
    "id": "x10R6AaA8kTO",
    "outputId": "1e58f8cb-c9d6-4734-ef78-050c6cac2161"
   },
   "outputs": [
    {
     "name": "stdout",
     "output_type": "stream",
     "text": [
      "0.7820906249999999 +- 3.055054065878605e-05\n"
     ]
    }
   ],
   "source": [
    "#Посчитаем значение функции и стандартное отклонение для M1M2G/rr:\n",
    "f = M1M2G/rr\n",
    "stdf = f*np.abs(np.power(stdrr/rr,2) + np.power(stdM1M2G/M1M2G,2))\n",
    "print(f, '+-', stdf)"
   ]
  },
  {
   "cell_type": "code",
   "execution_count": 6,
   "metadata": {
    "colab": {},
    "colab_type": "code",
    "id": "wdR1lWyW9Idn"
   },
   "outputs": [],
   "source": [
    "#Сформируем нормальное распределение для полученных значений:\n",
    "F_gauss = np.random.normal(f, stdf, 1000000)"
   ]
  },
  {
   "cell_type": "code",
   "execution_count": 8,
   "metadata": {
    "colab": {
     "base_uri": "https://localhost:8080/",
     "height": 299
    },
    "colab_type": "code",
    "id": "kEc27PC59iNH",
    "outputId": "3b6354ee-3eaa-4860-c1d1-dde0da0f9870"
   },
   "outputs": [
    {
     "data": {
      "image/png": "[encoded data removed]",
      "text/plain": [
       "<Figure size 1080x288 with 1 Axes>"
      ]
     },
     "metadata": {
      "needs_background": "light"
     },
     "output_type": "display_data"
    }
   ],
   "source": [
    "import matplotlib.pyplot as plt\n",
    "import numpy as np\n",
    "\n",
    "x = F\n",
    "hist, bins = np.histogram(x, bins=80)\n",
    "hist_2, bins_2 = np.histogram(F_gauss, bins=80)\n",
    "width = np.diff(bins)\n",
    "center = (bins[:-1] + bins[1:]) / 2\n",
    "fig, ax = plt.subplots(figsize=(15,4))\n",
    "ax.bar(center, hist, align='center', width=width)\n",
    "ax.set_xticks(bins)\n",
    "plt.plot(bins[:len(bins_2)-1], hist_2,color='r')\n",
    "#fig.savefig(\"/tmp/out.png\")\n",
    "plt.show()"
   ]
  },
  {
   "cell_type": "code",
   "execution_count": 9,
   "metadata": {
    "colab": {},
    "colab_type": "code",
    "id": "Ja_35Sk493-a"
   },
   "outputs": [],
   "source": [
    "M1_val = 400000\n",
    "M1_std = 20000\n",
    "M2_val = 300000\n",
    "M2_std = 100000\n",
    "r_val = 3.2\n",
    "r_std = 1\n",
    "M1 = np.random.normal(M1_val, M1_std, 1000000)\n",
    "M2 = np.random.normal(M2_val, M2_std, 1000000)\n",
    "r = np.random.normal(r_val, r_std, 1000000)\n",
    "\n",
    "G = 6.67384*10**-11"
   ]
  },
  {
   "cell_type": "code",
   "execution_count": 10,
   "metadata": {},
   "outputs": [],
   "source": [
    "F = G*M1*M2/r**2"
   ]
  },
  {
   "cell_type": "code",
   "execution_count": 11,
   "metadata": {},
   "outputs": [
    {
     "name": "stdout",
     "output_type": "stream",
     "text": [
      "0.9098668533333334\n"
     ]
    }
   ],
   "source": [
    "M1M2G = M1_val*M2_val*G\n",
    "stdM1M2G = M1M2G*(np.power(M1_std/M1_val,2) + np.power(M2_std/M2_val,2))\n",
    "print(stdM1M2G)"
   ]
  },
  {
   "cell_type": "code",
   "execution_count": 12,
   "metadata": {},
   "outputs": [
    {
     "name": "stdout",
     "output_type": "stream",
     "text": [
      "6.400000000000001\n"
     ]
    }
   ],
   "source": [
    "rr =  np.power(3.2, 2)\n",
    "stdrr = abs(r_val**2*2*r_std/r_val)\n",
    "print(stdrr)"
   ]
  },
  {
   "cell_type": "code",
   "execution_count": 13,
   "metadata": {},
   "outputs": [
    {
     "name": "stdout",
     "output_type": "stream",
     "text": [
      "0.7820906249999999 +- 0.3155989730635127\n"
     ]
    }
   ],
   "source": [
    "f = M1M2G/rr\n",
    "stdf = f*np.abs(np.power(stdrr/rr,2) + np.power(stdM1M2G/M1M2G,2))\n",
    "print(f, '+-', stdf)"
   ]
  },
  {
   "cell_type": "code",
   "execution_count": 14,
   "metadata": {},
   "outputs": [],
   "source": [
    "F_gauss = np.random.normal(f, stdf, 1000000)"
   ]
  },
  {
   "cell_type": "code",
   "execution_count": 15,
   "metadata": {},
   "outputs": [
    {
     "data": {
      "image/png": "[encoded data removed]",
      "text/plain": [
       "<Figure size 1080x288 with 1 Axes>"
      ]
     },
     "metadata": {
      "needs_background": "light"
     },
     "output_type": "display_data"
    }
   ],
   "source": [
    "x = F\n",
    "hist, bins = np.histogram(x, bins=80)\n",
    "hist_2, bins_2 = np.histogram(F_gauss, bins=80)\n",
    "width = np.diff(bins)\n",
    "center = (bins[:-1] + bins[1:]) / 2\n",
    "fig, ax = plt.subplots(figsize=(15,4))\n",
    "ax.bar(center, hist, align='center', width=width)\n",
    "ax.set_xticks(bins)\n",
    "plt.plot(bins[:len(bins_2)-1], hist_2,color='r')\n",
    "#fig.savefig(\"/tmp/out.png\")\n",
    "plt.show()"
   ]
  },
  {
   "cell_type": "code",
   "execution_count": null,
   "metadata": {},
   "outputs": [],
   "source": []
  },
  {
   "cell_type": "code",
   "execution_count": null,
   "metadata": {},
   "outputs": [],
   "source": []
  }
 ],
 "metadata": {
  "colab": {
   "collapsed_sections": [],
   "name": "monte-carlo",
   "provenance": []
  },
  "kernelspec": {
   "display_name": "Python 3",
   "language": "python",
   "name": "python3"
  },
  "language_info": {
   "codemirror_mode": {
    "name": "ipython",
    "version": 3
   },
   "file_extension": ".py",
   "mimetype": "text/x-python",
   "name": "python",
   "nbconvert_exporter": "python",
   "pygments_lexer": "ipython3",
   "version": "3.7.4"
  }
 },
 "nbformat": 4,
 "nbformat_minor": 1
}
